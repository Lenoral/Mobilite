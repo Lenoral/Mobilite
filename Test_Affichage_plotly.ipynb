{
 "cells": [
  {
   "cell_type": "code",
   "execution_count": 1,
   "metadata": {},
   "outputs": [
    {
     "name": "stdout",
     "output_type": "stream",
     "text": [
      "3 aéroport(s) trouvé(s) pour Paris.\n",
      "Recherche des destinations depuis BVA (1/3).\n",
      "Fin de la recherche des destinations pour BVA.\n",
      "Recherche des destinations depuis CDG (2/3).\n",
      "Fin de la recherche des destinations pour CDG.\n",
      "Recherche des destinations depuis ORY (3/3).\n",
      "Fin de la recherche des destinations pour ORY.\n"
     ]
    },
    {
     "name": "stderr",
     "output_type": "stream",
     "text": [
      "c:\\Users\\jean-\\anaconda3\\lib\\site-packages\\pandas\\core\\frame.py:5039: SettingWithCopyWarning: \n",
      "A value is trying to be set on a copy of a slice from a DataFrame\n",
      "\n",
      "See the caveats in the documentation: https://pandas.pydata.org/pandas-docs/stable/user_guide/indexing.html#returning-a-view-versus-a-copy\n",
      "  return super().rename(\n"
     ]
    },
    {
     "data": {
      "application/vnd.plotly.v1+json": {
       "config": {
        "plotlyServerURL": "https://plot.ly"
       },
       "data": [
        {
         "hovertemplate": "<b>%{hovertext}</b><br><br>mode=Train<br>lon_prop_tps=%{x}<br>lat_prop_tps=%{y}<extra></extra>",
         "hovertext": [
          "Aigle",
          "Aix la Chapelle",
          "Allaman",
          "Amsterdam Centraal",
          "Antwerpen Centraal",
          "Appenweier",
          "Augsburg Hbf",
          "Basel SBB",
          "Barcelone-Sants",
          "Bascharage secteur Sanem",
          "Glovelier",
          "Berg (Pfalz)",
          "Bettembourg",
          "Bex",
          "Biel/Bienne",
          "Boncourt",
          "Bruxelles Midi",
          "Buix",
          "Chambésy",
          "Charleroi Sud",
          "Chêne-Bourg",
          "Cologne",
          "Coppet",
          "Courchavon",
          "Courgenay",
          "Courtételle",
          "Courtrai",
          "Genthod-Bellevue",
          "Delemont",
          "Dippach secteur Reckange",
          "Dortmund Hbf",
          "Duesseldorf Hbf",
          "Duisburg Hbf",
          "Edenkoben",
          "Essen Hbf",
          "FIGUERES-VILAFANT",
          "Francfort sur le Main",
          "Freiburg (Breisgau) Hbf",
          "FROYENNES",
          "Genève",
          "GIRONA",
          "Gland",
          "Grenchen Nord",
          "Hagenbach",
          "Howald",
          "Kaiserslautern Hbf",
          "Karlsruhe Hbf",
          "Kehl",
          "Le Crêt-du-Locle",
          "Lahr (Schwarzw)",
          "Lancy-Pont-Rouge",
          "Landau (Pfalz) Hbf",
          "Lausanne",
          "Le Locle Col des Roches",
          "Legelshurst",
          "Les Tuileries",
          "Liege-Guil",
          "Londres Saint Pancras",
          "Luxembourg",
          "Mannheim Hbf",
          "Martigny",
          "Maximiliansau Im Ruesten",
          "Meyrin",
          "Mies",
          "MILANO PORTA GARIBALDI",
          "Monaco-Monte-Carlo",
          "Montreux",
          "Morges",
          "Mouscron",
          "Moutier",
          "Muellheim (Baden)",
          "Munich",
          "Neuburg (Rhein)",
          "Neuchatel",
          "Neuenburg (Baden)",
          "Neustadt (Weinstra_e) Süd",
          "Nyon",
          "Offenburg",
          "OULX CESANA CLAVIERE SESTRIERE",
          "Perl Gare Routière",
          "Petange",
          "Versoix",
          "Porrentruy",
          "Portbou",
          "Renens VD",
          "Ringsheim",
          "Rolle",
          "Rotterdam Centraal",
          "Russin",
          "Sarrebruck",
          "Satigny",
          "Schiphol Airport",
          "Sion",
          "St-Maurice",
          "St-Ursanne",
          "Stuttgart Hbf",
          "Tannay",
          "Travers",
          "Turin Porta Susa",
          "Ulm Hbf",
          "Vallorbe",
          "VENTIMIGLIA",
          "Vernier",
          "Vevey",
          "Villeneuve",
          "Winden (Pfalz)",
          "Zuerich HB",
          "Nîmes",
          "Avignon",
          "Toulon",
          "Bourg-en-Bresse",
          "Chalon-sur-Saône",
          "Besançon",
          "Dijon",
          "Tarbes",
          "Cahors",
          "Muret",
          "Angoulême",
          "Angers",
          "Saint-Nazaire",
          "Quimper",
          "Brest",
          "Lisieux",
          "Cambrai",
          "Arras",
          "Aix-en-Provence",
          "Lille",
          "Compiègne",
          "Chaumont",
          "Gap",
          "Marseille",
          "Grenoble",
          "Clermont-Ferrand",
          "Roanne",
          "Mâcon",
          "Lyon",
          "Montbard",
          "Moulins",
          "Toulouse",
          "Périgueux",
          "Limoges",
          "Agen",
          "Arcachon",
          "Bourges",
          "Châtellerault",
          "Tours",
          "Laval",
          "Morlaix",
          "Alençon",
          "Bayeux",
          "Rouen",
          "Dreux",
          "Douai",
          "Abbeville",
          "Saverne",
          "Belfort",
          "Bar-le-Duc",
          "Sedan",
          "Narbonne",
          "Alès",
          "Lunéville",
          "Valence",
          "Nancy",
          "Château-Thierry",
          "Nice",
          "Chambéry",
          "Riom",
          "Vichy",
          "Nevers",
          "Montargis",
          "Carcassonne",
          "Châteauroux",
          "Libourne",
          "Poitiers",
          "Blois",
          "Saintes",
          "Roche-sur-Yon",
          "Rochelle",
          "Cholet",
          "Saint-Malo",
          "Vannes",
          "Lorient",
          "Rennes",
          "Évreux",
          "Valenciennes",
          "Béthune",
          "Amiens",
          "Clermont",
          "Dunkerque",
          "Soissons",
          "Strasbourg",
          "Montbéliard",
          "Vitry-le-François",
          "Reims",
          "Saint-Dié-des-Vosges",
          "Troyes",
          "Perpignan",
          "Béziers",
          "Arles",
          "Dax",
          "Montluçon",
          "Albi",
          "Marmande",
          "Vierzon",
          "Vendôme",
          "Orléans",
          "Saumur",
          "Sables-d'Olonne",
          "Nantes",
          "Guingamp",
          "Saint-Brieuc",
          "Redon",
          "Saint-Lô",
          "Caen",
          "Havre",
          "Boulogne-sur-Mer",
          "Calais",
          "Beauvais",
          "Mulhouse",
          "Châlons-en-Champagne",
          "Charleville-Mézières",
          "Épinal",
          "Montpellier",
          "Annecy",
          "Saint-Étienne",
          "Beaune",
          "Dole",
          "Bayonne",
          "Pau",
          "Montauban",
          "Brive-la-Gaillarde",
          "Bordeaux",
          "Niort",
          "Lannion",
          "Argentan",
          "Bernay",
          "Dieppe",
          "Mans",
          "Chartres",
          "Lens",
          "Laon",
          "Saint-Quentin",
          "Saint-Omer",
          "Metz",
          "Thionville",
          "Toul"
         ],
         "legendgroup": "Train",
         "marker": {
          "color": "#636efa",
          "symbol": "circle"
         },
         "mode": "markers",
         "name": "Train",
         "orientation": "v",
         "showlegend": true,
         "type": "scatter",
         "x": [
          293.3721186479724,
          142.6611369644866,
          218.24023460397947,
          90.56075308874149,
          69.61487462626626,
          170,
          309,
          183.36858635420205,
          0,
          153.68669428418323,
          211.80542594923875,
          269,
          130.9692375196198,
          310.1112147556766,
          256.9121370310211,
          180.42684432712932,
          58.33630944789017,
          182.38800567851112,
          193.19627325598182,
          149.19953083036154,
          205.71825392998065,
          179.33265179548314,
          201.24611797498108,
          190.2326510840385,
          201.01903851663863,
          221.61123270614794,
          62.60990336999412,
          197.6684092109814,
          225.5335554089116,
          147.99459449588014,
          243.0992444395063,
          180.4,
          190.8,
          254.4896323486931,
          216.5169637424174,
          0,
          237.17082451262843,
          177.48510230005652,
          60.373835392494335,
          175.30772943598353,
          0,
          210.19038988498022,
          245.14516892273002,
          282.1086622159931,
          154.25265752310776,
          143.6550689887198,
          151,
          156,
          266.78918753996624,
          149,
          190.51299168298206,
          243.63929918653952,
          218.24023460397947,
          258.5429762887309,
          166,
          194.98512763798166,
          112.74281488277782,
          -76.27127698096902,
          129.99909501947448,
          185.9352546423591,
          324.03836511895554,
          292.9589953781467,
          210.19038988498022,
          207.5071083119805,
          389.7174927276566,
          291.3279938488576,
          283.53341954697333,
          223.60679774997897,
          55.90169943749475,
          237.30052351720266,
          270.64026649069393,
          341,
          275,
          220.0290889859793,
          262.7956210851666,
          261.3943898155181,
          206.61268112098057,
          134,
          222.4,
          210.52092253153702,
          157.48142747638528,
          203.0349723569809,
          195.1355544624931,
          74.96593821124289,
          229.86778808697835,
          157,
          214.66252583997982,
          89.02938149414928,
          217.34580741297955,
          105.26046126576851,
          214.66252583997982,
          82.06369477424231,
          336.10856210046387,
          314.7535982101029,
          205.92194189509323,
          189,
          209.29596269398033,
          197.6684092109814,
          288.97511596512743,
          266,
          170.38837988548397,
          313.2483040656406,
          207.5071083119805,
          252.22846786197627,
          287.111128310973,
          233.77535994821807,
          243.63929918653952,
          69.63575181639446,
          62.95071964202059,
          131.45366551173302,
          95.68578384885203,
          128.69343417595167,
          153.28251502296243,
          92.97096320895034,
          -116.98806305154268,
          -74.33716907363603,
          -60.59988575769886,
          -63.790522565901355,
          -72.89581606649314,
          -156.67801377347112,
          -233.77535994821807,
          -206.5,
          -93.02042786399124,
          52.100383875745116,
          0,
          99.55492867522636,
          33.54101966249685,
          0,
          142,
          275.77164466275354,
          107.27236500663928,
          130.8147545195113,
          67.67274192760333,
          139.65358928434313,
          72.12489168102785,
          66.28667344891488,
          119.85324359398872,
          66.41121893174378,
          -52.16689194675694,
          -123.14344356200087,
          -62.61309767133391,
          -89.4427190999916,
          -100.20000000000002,
          0,
          -75.30687219636731,
          -66.18761213399378,
          -88.5,
          -199,
          -221,
          -123.87816595348835,
          -65.05382386916237,
          -45,
          34.882660448996724,
          -48.07546151624549,
          169,
          169.77493752543307,
          131,
          113.59225325698931,
          52.16689194675694,
          114.26307365023928,
          125,
          70.65974808899337,
          97.5,
          37.476659402887016,
          260.92240225783604,
          125.86500705120548,
          64.1942365014181,
          80.94566078549241,
          52.323990673495096,
          0,
          0,
          -57.24334022399463,
          -68.87089370699353,
          -65.76093065034893,
          -65.76093065034893,
          -113.71354022617197,
          -149.35302783364295,
          -151.84917871665647,
          -206.61268112098057,
          -138,
          -160.07351252397976,
          -194.15497378680217,
          -86,
          -43.84062043356595,
          55.230879044244816,
          0,
          0,
          0,
          0,
          47.37615433949869,
          106,
          207.12542378102836,
          107,
          42.03807797699605,
          157,
          89,
          0,
          48.83291764940781,
          82.6344254887881,
          -101.35566381922271,
          0,
          0,
          -77.36795202149274,
          0,
          -88.38834764831844,
          -62.93250352560274,
          -117.16996202098898,
          -173.06646122227147,
          -110.0472625738596,
          -170,
          -134,
          -135.81995002034645,
          -177.4037767354461,
          -107.77847651548987,
          -114.48668044798923,
          -68.42368011149357,
          -60.821048987994295,
          0,
          160.8152308133109,
          89,
          92.12600067299132,
          145,
          38.046530216807696,
          187.6,
          103.17423649789262,
          117.61717561648894,
          122.38014544851627,
          -119.36301525918614,
          -96.74727119024404,
          -57.72347875864723,
          -82.85167469641154,
          -55.454485841994796,
          -97.93428919433684,
          -265,
          -108,
          -78.70959280799259,
          -111.01576464628798,
          -49.19349550499537,
          -75,
          0,
          66.46803743153548,
          70.00357133746822,
          0,
          80.52182751206254,
          102.83510501540518,
          153.5
         ],
         "xaxis": "x",
         "y": [
          -146.6860593239862,
          71,
          -109.12011730198974,
          181,
          104,
          0,
          0,
          -36.67371727084041,
          0,
          51,
          -42.36108518984775,
          0,
          32,
          -124.04448590227065,
          -51.38242740620422,
          -36.08536886542586,
          58,
          -36.47760113570223,
          -96.59813662799091,
          149,
          -102.85912696499032,
          89,
          -100.62305898749054,
          -38.0465302168077,
          -40.203807703327726,
          -44.32224654122959,
          125,
          -98.8342046054907,
          -45.10671108178233,
          49,
          145,
          135,
          143,
          42,
          129,
          0,
          79,
          -35.49702046001131,
          120,
          -87.65386471799177,
          0,
          -105.09519494249011,
          -49.02903378454601,
          47,
          38,
          28,
          0,
          0,
          -66.69729688499156,
          0,
          -95.25649584149103,
          40,
          -109.12011730198974,
          -64.63574407218273,
          0,
          -97.49256381899083,
          75,
          114,
          32,
          30,
          -129.6153460475822,
          48,
          -105.09519494249011,
          -103.75355415599024,
          -167.02178259756707,
          -291.3279938488576,
          -141.76670977348667,
          -111.80339887498948,
          111,
          -47.460104703440535,
          -54.128053298138795,
          0,
          0,
          -110.01454449298966,
          -52.55912421703332,
          43,
          -103.30634056049028,
          0,
          -166.8,
          52,
          52,
          -101.51748617849044,
          -39.02711089249863,
          -449.7956292674575,
          -114.93389404348918,
          0,
          -107.33126291998991,
          133,
          -108.67290370648978,
          26,
          -107.33126291998991,
          164,
          -134.44342484018554,
          -125.90143928404116,
          -41.18438837901865,
          0,
          -104.64798134699016,
          -98.8342046054907,
          -173.38506957907646,
          0,
          -85.19418994274199,
          -313.2483040656406,
          -103.75355415599024,
          -126.11423393098814,
          -143.5555641554865,
          38,
          -40.60654986442325,
          -174.08937954098613,
          -157.37679910505145,
          -219.08944251955506,
          -63.79052256590134,
          -128.69343417595167,
          -38.32062875574061,
          -30.99032106965012,
          -292.4701576288567,
          -297.3486762945442,
          -302.99942878849436,
          -95.68578384885201,
          -36.44790803324657,
          -39.16950344336778,
          -38.962559991369666,
          0,
          46,
          104,
          0,
          -165.9248811253773,
          67,
          0,
          0,
          -275.77164466275354,
          -178.78727501106547,
          -130.8147545195113,
          -203.01822578280996,
          -139.65358928434313,
          -72.12489168102785,
          -99.43001017337231,
          -59.92662179699436,
          -132.82243786348752,
          -260.8344597337848,
          -184.7151653430013,
          -187.83929301400173,
          -178.88543819998316,
          -133.6,
          0,
          -75.30687219636731,
          -33.09380606699689,
          0,
          0,
          0,
          61,
          65,
          0,
          69,
          96,
          0,
          -42.44373438135827,
          0,
          56,
          -260.8344597337848,
          -228.5261473004785,
          0,
          -141.3194961779867,
          0,
          37,
          -260.92240225783604,
          -125.86500705120548,
          -192.5827095042543,
          -161.8913215709848,
          -104.64798134699016,
          0,
          0,
          -114.48668044798923,
          -137.74178741398703,
          -65.76093065034893,
          -65.76093065034893,
          -170.57031033925793,
          -99.56868522242861,
          -101.2327858111043,
          -103.30634056049028,
          0,
          -40.01837813099494,
          -38.83099475736044,
          0,
          43,
          110,
          0,
          0,
          0,
          0,
          47,
          0,
          -51.78135594525709,
          0,
          21,
          0,
          0,
          0,
          -244.16458824703915,
          -206.5860637219702,
          -168.9261063653712,
          0,
          0,
          -154.73590404298545,
          0,
          -88.38834764831844,
          -62.93250352560274,
          -58.58498101049449,
          -115.37764081484764,
          -36.6824208579532,
          0,
          0,
          -33.95498750508661,
          59,
          53,
          57,
          136,
          121,
          0,
          -32.163046162662184,
          0,
          46,
          0,
          -190.2326510840385,
          -140.7,
          -154.76135474683892,
          -58.80858780824447,
          -40.793381816172094,
          -198.93835876531026,
          -241.86817797561005,
          -230.89391503458899,
          -248.5550240892346,
          -110.90897168398958,
          -97.93428919433684,
          0,
          0,
          39,
          111,
          -24.596747752497684,
          0,
          0,
          66,
          70,
          0,
          20,
          25,
          0
         ],
         "yaxis": "y"
        },
        {
         "hovertemplate": "<b>%{hovertext}</b><br><br>mode=Origine<br>lon_prop_tps=%{x}<br>lat_prop_tps=%{y}<extra></extra>",
         "hovertext": [
          "Paris"
         ],
         "legendgroup": "Origine",
         "marker": {
          "color": "#EF553B",
          "symbol": "circle"
         },
         "mode": "markers",
         "name": "Origine",
         "orientation": "v",
         "showlegend": true,
         "type": "scatter",
         "x": [
          0
         ],
         "xaxis": "x",
         "y": [
          0
         ],
         "yaxis": "y"
        }
       ],
       "layout": {
        "autosize": true,
        "height": 1200,
        "legend": {
         "title": {
          "text": "mode"
         },
         "tracegroupgap": 0
        },
        "margin": {
         "b": 50,
         "l": 50,
         "pad": 5,
         "r": 50,
         "t": 50
        },
        "shapes": [
         {
          "line": {
           "color": "LightSeaGreen"
          },
          "type": "circle",
          "x0": -60,
          "x1": 60,
          "xref": "x",
          "y0": -60,
          "y1": 60,
          "yref": "y"
         },
         {
          "line": {
           "color": "LightSeaGreen"
          },
          "type": "circle",
          "x0": -120,
          "x1": 120,
          "xref": "x",
          "y0": -120,
          "y1": 120,
          "yref": "y"
         },
         {
          "line": {
           "color": "LightSeaGreen"
          },
          "type": "circle",
          "x0": -180,
          "x1": 180,
          "xref": "x",
          "y0": -180,
          "y1": 180,
          "yref": "y"
         },
         {
          "line": {
           "color": "LightSeaGreen"
          },
          "type": "circle",
          "x0": -240,
          "x1": 240,
          "xref": "x",
          "y0": -240,
          "y1": 240,
          "yref": "y"
         }
        ],
        "template": {
         "data": {
          "bar": [
           {
            "error_x": {
             "color": "#2a3f5f"
            },
            "error_y": {
             "color": "#2a3f5f"
            },
            "marker": {
             "line": {
              "color": "#E5ECF6",
              "width": 0.5
             },
             "pattern": {
              "fillmode": "overlay",
              "size": 10,
              "solidity": 0.2
             }
            },
            "type": "bar"
           }
          ],
          "barpolar": [
           {
            "marker": {
             "line": {
              "color": "#E5ECF6",
              "width": 0.5
             },
             "pattern": {
              "fillmode": "overlay",
              "size": 10,
              "solidity": 0.2
             }
            },
            "type": "barpolar"
           }
          ],
          "carpet": [
           {
            "aaxis": {
             "endlinecolor": "#2a3f5f",
             "gridcolor": "white",
             "linecolor": "white",
             "minorgridcolor": "white",
             "startlinecolor": "#2a3f5f"
            },
            "baxis": {
             "endlinecolor": "#2a3f5f",
             "gridcolor": "white",
             "linecolor": "white",
             "minorgridcolor": "white",
             "startlinecolor": "#2a3f5f"
            },
            "type": "carpet"
           }
          ],
          "choropleth": [
           {
            "colorbar": {
             "outlinewidth": 0,
             "ticks": ""
            },
            "type": "choropleth"
           }
          ],
          "contour": [
           {
            "colorbar": {
             "outlinewidth": 0,
             "ticks": ""
            },
            "colorscale": [
             [
              0,
              "#0d0887"
             ],
             [
              0.1111111111111111,
              "#46039f"
             ],
             [
              0.2222222222222222,
              "#7201a8"
             ],
             [
              0.3333333333333333,
              "#9c179e"
             ],
             [
              0.4444444444444444,
              "#bd3786"
             ],
             [
              0.5555555555555556,
              "#d8576b"
             ],
             [
              0.6666666666666666,
              "#ed7953"
             ],
             [
              0.7777777777777778,
              "#fb9f3a"
             ],
             [
              0.8888888888888888,
              "#fdca26"
             ],
             [
              1,
              "#f0f921"
             ]
            ],
            "type": "contour"
           }
          ],
          "contourcarpet": [
           {
            "colorbar": {
             "outlinewidth": 0,
             "ticks": ""
            },
            "type": "contourcarpet"
           }
          ],
          "heatmap": [
           {
            "colorbar": {
             "outlinewidth": 0,
             "ticks": ""
            },
            "colorscale": [
             [
              0,
              "#0d0887"
             ],
             [
              0.1111111111111111,
              "#46039f"
             ],
             [
              0.2222222222222222,
              "#7201a8"
             ],
             [
              0.3333333333333333,
              "#9c179e"
             ],
             [
              0.4444444444444444,
              "#bd3786"
             ],
             [
              0.5555555555555556,
              "#d8576b"
             ],
             [
              0.6666666666666666,
              "#ed7953"
             ],
             [
              0.7777777777777778,
              "#fb9f3a"
             ],
             [
              0.8888888888888888,
              "#fdca26"
             ],
             [
              1,
              "#f0f921"
             ]
            ],
            "type": "heatmap"
           }
          ],
          "heatmapgl": [
           {
            "colorbar": {
             "outlinewidth": 0,
             "ticks": ""
            },
            "colorscale": [
             [
              0,
              "#0d0887"
             ],
             [
              0.1111111111111111,
              "#46039f"
             ],
             [
              0.2222222222222222,
              "#7201a8"
             ],
             [
              0.3333333333333333,
              "#9c179e"
             ],
             [
              0.4444444444444444,
              "#bd3786"
             ],
             [
              0.5555555555555556,
              "#d8576b"
             ],
             [
              0.6666666666666666,
              "#ed7953"
             ],
             [
              0.7777777777777778,
              "#fb9f3a"
             ],
             [
              0.8888888888888888,
              "#fdca26"
             ],
             [
              1,
              "#f0f921"
             ]
            ],
            "type": "heatmapgl"
           }
          ],
          "histogram": [
           {
            "marker": {
             "pattern": {
              "fillmode": "overlay",
              "size": 10,
              "solidity": 0.2
             }
            },
            "type": "histogram"
           }
          ],
          "histogram2d": [
           {
            "colorbar": {
             "outlinewidth": 0,
             "ticks": ""
            },
            "colorscale": [
             [
              0,
              "#0d0887"
             ],
             [
              0.1111111111111111,
              "#46039f"
             ],
             [
              0.2222222222222222,
              "#7201a8"
             ],
             [
              0.3333333333333333,
              "#9c179e"
             ],
             [
              0.4444444444444444,
              "#bd3786"
             ],
             [
              0.5555555555555556,
              "#d8576b"
             ],
             [
              0.6666666666666666,
              "#ed7953"
             ],
             [
              0.7777777777777778,
              "#fb9f3a"
             ],
             [
              0.8888888888888888,
              "#fdca26"
             ],
             [
              1,
              "#f0f921"
             ]
            ],
            "type": "histogram2d"
           }
          ],
          "histogram2dcontour": [
           {
            "colorbar": {
             "outlinewidth": 0,
             "ticks": ""
            },
            "colorscale": [
             [
              0,
              "#0d0887"
             ],
             [
              0.1111111111111111,
              "#46039f"
             ],
             [
              0.2222222222222222,
              "#7201a8"
             ],
             [
              0.3333333333333333,
              "#9c179e"
             ],
             [
              0.4444444444444444,
              "#bd3786"
             ],
             [
              0.5555555555555556,
              "#d8576b"
             ],
             [
              0.6666666666666666,
              "#ed7953"
             ],
             [
              0.7777777777777778,
              "#fb9f3a"
             ],
             [
              0.8888888888888888,
              "#fdca26"
             ],
             [
              1,
              "#f0f921"
             ]
            ],
            "type": "histogram2dcontour"
           }
          ],
          "mesh3d": [
           {
            "colorbar": {
             "outlinewidth": 0,
             "ticks": ""
            },
            "type": "mesh3d"
           }
          ],
          "parcoords": [
           {
            "line": {
             "colorbar": {
              "outlinewidth": 0,
              "ticks": ""
             }
            },
            "type": "parcoords"
           }
          ],
          "pie": [
           {
            "automargin": true,
            "type": "pie"
           }
          ],
          "scatter": [
           {
            "fillpattern": {
             "fillmode": "overlay",
             "size": 10,
             "solidity": 0.2
            },
            "type": "scatter"
           }
          ],
          "scatter3d": [
           {
            "line": {
             "colorbar": {
              "outlinewidth": 0,
              "ticks": ""
             }
            },
            "marker": {
             "colorbar": {
              "outlinewidth": 0,
              "ticks": ""
             }
            },
            "type": "scatter3d"
           }
          ],
          "scattercarpet": [
           {
            "marker": {
             "colorbar": {
              "outlinewidth": 0,
              "ticks": ""
             }
            },
            "type": "scattercarpet"
           }
          ],
          "scattergeo": [
           {
            "marker": {
             "colorbar": {
              "outlinewidth": 0,
              "ticks": ""
             }
            },
            "type": "scattergeo"
           }
          ],
          "scattergl": [
           {
            "marker": {
             "colorbar": {
              "outlinewidth": 0,
              "ticks": ""
             }
            },
            "type": "scattergl"
           }
          ],
          "scattermapbox": [
           {
            "marker": {
             "colorbar": {
              "outlinewidth": 0,
              "ticks": ""
             }
            },
            "type": "scattermapbox"
           }
          ],
          "scatterpolar": [
           {
            "marker": {
             "colorbar": {
              "outlinewidth": 0,
              "ticks": ""
             }
            },
            "type": "scatterpolar"
           }
          ],
          "scatterpolargl": [
           {
            "marker": {
             "colorbar": {
              "outlinewidth": 0,
              "ticks": ""
             }
            },
            "type": "scatterpolargl"
           }
          ],
          "scatterternary": [
           {
            "marker": {
             "colorbar": {
              "outlinewidth": 0,
              "ticks": ""
             }
            },
            "type": "scatterternary"
           }
          ],
          "surface": [
           {
            "colorbar": {
             "outlinewidth": 0,
             "ticks": ""
            },
            "colorscale": [
             [
              0,
              "#0d0887"
             ],
             [
              0.1111111111111111,
              "#46039f"
             ],
             [
              0.2222222222222222,
              "#7201a8"
             ],
             [
              0.3333333333333333,
              "#9c179e"
             ],
             [
              0.4444444444444444,
              "#bd3786"
             ],
             [
              0.5555555555555556,
              "#d8576b"
             ],
             [
              0.6666666666666666,
              "#ed7953"
             ],
             [
              0.7777777777777778,
              "#fb9f3a"
             ],
             [
              0.8888888888888888,
              "#fdca26"
             ],
             [
              1,
              "#f0f921"
             ]
            ],
            "type": "surface"
           }
          ],
          "table": [
           {
            "cells": {
             "fill": {
              "color": "#EBF0F8"
             },
             "line": {
              "color": "white"
             }
            },
            "header": {
             "fill": {
              "color": "#C8D4E3"
             },
             "line": {
              "color": "white"
             }
            },
            "type": "table"
           }
          ]
         },
         "layout": {
          "annotationdefaults": {
           "arrowcolor": "#2a3f5f",
           "arrowhead": 0,
           "arrowwidth": 1
          },
          "autotypenumbers": "strict",
          "coloraxis": {
           "colorbar": {
            "outlinewidth": 0,
            "ticks": ""
           }
          },
          "colorscale": {
           "diverging": [
            [
             0,
             "#8e0152"
            ],
            [
             0.1,
             "#c51b7d"
            ],
            [
             0.2,
             "#de77ae"
            ],
            [
             0.3,
             "#f1b6da"
            ],
            [
             0.4,
             "#fde0ef"
            ],
            [
             0.5,
             "#f7f7f7"
            ],
            [
             0.6,
             "#e6f5d0"
            ],
            [
             0.7,
             "#b8e186"
            ],
            [
             0.8,
             "#7fbc41"
            ],
            [
             0.9,
             "#4d9221"
            ],
            [
             1,
             "#276419"
            ]
           ],
           "sequential": [
            [
             0,
             "#0d0887"
            ],
            [
             0.1111111111111111,
             "#46039f"
            ],
            [
             0.2222222222222222,
             "#7201a8"
            ],
            [
             0.3333333333333333,
             "#9c179e"
            ],
            [
             0.4444444444444444,
             "#bd3786"
            ],
            [
             0.5555555555555556,
             "#d8576b"
            ],
            [
             0.6666666666666666,
             "#ed7953"
            ],
            [
             0.7777777777777778,
             "#fb9f3a"
            ],
            [
             0.8888888888888888,
             "#fdca26"
            ],
            [
             1,
             "#f0f921"
            ]
           ],
           "sequentialminus": [
            [
             0,
             "#0d0887"
            ],
            [
             0.1111111111111111,
             "#46039f"
            ],
            [
             0.2222222222222222,
             "#7201a8"
            ],
            [
             0.3333333333333333,
             "#9c179e"
            ],
            [
             0.4444444444444444,
             "#bd3786"
            ],
            [
             0.5555555555555556,
             "#d8576b"
            ],
            [
             0.6666666666666666,
             "#ed7953"
            ],
            [
             0.7777777777777778,
             "#fb9f3a"
            ],
            [
             0.8888888888888888,
             "#fdca26"
            ],
            [
             1,
             "#f0f921"
            ]
           ]
          },
          "colorway": [
           "#636efa",
           "#EF553B",
           "#00cc96",
           "#ab63fa",
           "#FFA15A",
           "#19d3f3",
           "#FF6692",
           "#B6E880",
           "#FF97FF",
           "#FECB52"
          ],
          "font": {
           "color": "#2a3f5f"
          },
          "geo": {
           "bgcolor": "white",
           "lakecolor": "white",
           "landcolor": "#E5ECF6",
           "showlakes": true,
           "showland": true,
           "subunitcolor": "white"
          },
          "hoverlabel": {
           "align": "left"
          },
          "hovermode": "closest",
          "mapbox": {
           "style": "light"
          },
          "paper_bgcolor": "white",
          "plot_bgcolor": "#E5ECF6",
          "polar": {
           "angularaxis": {
            "gridcolor": "white",
            "linecolor": "white",
            "ticks": ""
           },
           "bgcolor": "#E5ECF6",
           "radialaxis": {
            "gridcolor": "white",
            "linecolor": "white",
            "ticks": ""
           }
          },
          "scene": {
           "xaxis": {
            "backgroundcolor": "#E5ECF6",
            "gridcolor": "white",
            "gridwidth": 2,
            "linecolor": "white",
            "showbackground": true,
            "ticks": "",
            "zerolinecolor": "white"
           },
           "yaxis": {
            "backgroundcolor": "#E5ECF6",
            "gridcolor": "white",
            "gridwidth": 2,
            "linecolor": "white",
            "showbackground": true,
            "ticks": "",
            "zerolinecolor": "white"
           },
           "zaxis": {
            "backgroundcolor": "#E5ECF6",
            "gridcolor": "white",
            "gridwidth": 2,
            "linecolor": "white",
            "showbackground": true,
            "ticks": "",
            "zerolinecolor": "white"
           }
          },
          "shapedefaults": {
           "line": {
            "color": "#2a3f5f"
           }
          },
          "ternary": {
           "aaxis": {
            "gridcolor": "white",
            "linecolor": "white",
            "ticks": ""
           },
           "baxis": {
            "gridcolor": "white",
            "linecolor": "white",
            "ticks": ""
           },
           "bgcolor": "#E5ECF6",
           "caxis": {
            "gridcolor": "white",
            "linecolor": "white",
            "ticks": ""
           }
          },
          "title": {
           "x": 0.05
          },
          "xaxis": {
           "automargin": true,
           "gridcolor": "white",
           "linecolor": "white",
           "ticks": "",
           "title": {
            "standoff": 15
           },
           "zerolinecolor": "white",
           "zerolinewidth": 2
          },
          "yaxis": {
           "automargin": true,
           "gridcolor": "white",
           "linecolor": "white",
           "ticks": "",
           "title": {
            "standoff": 15
           },
           "zerolinecolor": "white",
           "zerolinewidth": 2
          }
         }
        },
        "title": {
         "text": "Destinations depuis Bordeaux"
        },
        "width": 1600,
        "xaxis": {
         "anchor": "y",
         "domain": [
          0,
          1
         ],
         "title": {
          "text": "lon_prop_tps"
         }
        },
        "yaxis": {
         "anchor": "x",
         "domain": [
          0,
          1
         ],
         "title": {
          "text": "lat_prop_tps"
         }
        }
       }
      }
     },
     "metadata": {},
     "output_type": "display_data"
    },
    {
     "ename": "TypeError",
     "evalue": "affichage_plotlty() missing 1 required positional argument: 'defor'",
     "output_type": "error",
     "traceback": [
      "\u001b[1;31m---------------------------------------------------------------------------\u001b[0m",
      "\u001b[1;31mTypeError\u001b[0m                                 Traceback (most recent call last)",
      "\u001b[1;32m~\\AppData\\Local\\Temp/ipykernel_17824/4212434995.py\u001b[0m in \u001b[0;36m<module>\u001b[1;34m\u001b[0m\n\u001b[0;32m      2\u001b[0m \u001b[1;32mimport\u001b[0m \u001b[0mpandas\u001b[0m \u001b[1;32mas\u001b[0m \u001b[0mpd\u001b[0m\u001b[1;33m\u001b[0m\u001b[1;33m\u001b[0m\u001b[0m\n\u001b[0;32m      3\u001b[0m \u001b[0mnom_ville\u001b[0m\u001b[1;33m=\u001b[0m\u001b[1;34m'Bordeaux'\u001b[0m\u001b[1;33m\u001b[0m\u001b[1;33m\u001b[0m\u001b[0m\n\u001b[1;32m----> 4\u001b[1;33m \u001b[0mdest_reduit_total\u001b[0m  \u001b[1;33m=\u001b[0m \u001b[0mapt\u001b[0m\u001b[1;33m.\u001b[0m\u001b[0maffichage_plotlty\u001b[0m\u001b[1;33m(\u001b[0m\u001b[1;34m'Bordeaux'\u001b[0m\u001b[1;33m,\u001b[0m\u001b[1;36m120\u001b[0m\u001b[1;33m)\u001b[0m\u001b[1;33m\u001b[0m\u001b[1;33m\u001b[0m\u001b[0m\n\u001b[0m\u001b[0;32m      5\u001b[0m \u001b[1;33m\u001b[0m\u001b[0m\n\u001b[0;32m      6\u001b[0m \u001b[1;33m\u001b[0m\u001b[0m\n",
      "\u001b[1;31mTypeError\u001b[0m: affichage_plotlty() missing 1 required positional argument: 'defor'"
     ]
    }
   ],
   "source": [
    "import affichage_plotly as apt\n",
    "import pandas as pd\n",
    "nom_ville='Bordeaux'\n",
    "dest_reduit_total  = apt.affichage_plotlty('Bordeaux',120)\n",
    "\n",
    "\n",
    "\n",
    "dest_reduit_total"
   ]
  },
  {
   "cell_type": "code",
   "execution_count": null,
   "metadata": {},
   "outputs": [
    {
     "name": "stdout",
     "output_type": "stream",
     "text": [
      "48\n"
     ]
    }
   ],
   "source": [
    "n = dest_reduit_total.shape[0]\n",
    "print(n)\n"
   ]
  },
  {
   "cell_type": "code",
   "execution_count": null,
   "metadata": {},
   "outputs": [
    {
     "ename": "ValueError",
     "evalue": "Must have equal len keys and value when setting with an iterable",
     "output_type": "error",
     "traceback": [
      "\u001b[1;31m---------------------------------------------------------------------------\u001b[0m",
      "\u001b[1;31mValueError\u001b[0m                                Traceback (most recent call last)",
      "\u001b[1;32m~\\AppData\\Local\\Temp/ipykernel_48532/2197701063.py\u001b[0m in \u001b[0;36m<module>\u001b[1;34m\u001b[0m\n\u001b[1;32m----> 1\u001b[1;33m \u001b[0mdest_reduit_total\u001b[0m\u001b[1;33m.\u001b[0m\u001b[0mloc\u001b[0m\u001b[1;33m[\u001b[0m\u001b[0mlen\u001b[0m\u001b[1;33m(\u001b[0m\u001b[0mdest_reduit_total\u001b[0m\u001b[1;33m)\u001b[0m\u001b[1;33m]\u001b[0m\u001b[1;33m=\u001b[0m\u001b[1;33m[\u001b[0m\u001b[1;34m'Bordeaux'\u001b[0m\u001b[1;33m,\u001b[0m\u001b[1;36m1\u001b[0m\u001b[1;33m,\u001b[0m\u001b[1;36m1\u001b[0m\u001b[1;33m,\u001b[0m\u001b[1;34m'Bordeaux'\u001b[0m\u001b[1;33m,\u001b[0m\u001b[1;36m2\u001b[0m\u001b[1;33m,\u001b[0m\u001b[1;36m2\u001b[0m\u001b[1;33m,\u001b[0m\u001b[1;36m2\u001b[0m\u001b[1;33m,\u001b[0m\u001b[1;36m2\u001b[0m\u001b[1;33m,\u001b[0m\u001b[1;34m'Origine'\u001b[0m\u001b[1;33m,\u001b[0m\u001b[1;36m3\u001b[0m\u001b[1;33m,\u001b[0m\u001b[1;36m3\u001b[0m\u001b[1;33m,\u001b[0m\u001b[1;36m3\u001b[0m\u001b[1;33m]\u001b[0m\u001b[1;33m\u001b[0m\u001b[1;33m\u001b[0m\u001b[0m\n\u001b[0m\u001b[0;32m      2\u001b[0m \u001b[0mdest_reduit_total\u001b[0m\u001b[1;33m\u001b[0m\u001b[1;33m\u001b[0m\u001b[0m\n",
      "\u001b[1;32mc:\\Users\\jean-\\anaconda3\\lib\\site-packages\\pandas\\core\\indexing.py\u001b[0m in \u001b[0;36m__setitem__\u001b[1;34m(self, key, value)\u001b[0m\n\u001b[0;32m    721\u001b[0m \u001b[1;33m\u001b[0m\u001b[0m\n\u001b[0;32m    722\u001b[0m         \u001b[0miloc\u001b[0m \u001b[1;33m=\u001b[0m \u001b[0mself\u001b[0m \u001b[1;32mif\u001b[0m \u001b[0mself\u001b[0m\u001b[1;33m.\u001b[0m\u001b[0mname\u001b[0m \u001b[1;33m==\u001b[0m \u001b[1;34m\"iloc\"\u001b[0m \u001b[1;32melse\u001b[0m \u001b[0mself\u001b[0m\u001b[1;33m.\u001b[0m\u001b[0mobj\u001b[0m\u001b[1;33m.\u001b[0m\u001b[0miloc\u001b[0m\u001b[1;33m\u001b[0m\u001b[1;33m\u001b[0m\u001b[0m\n\u001b[1;32m--> 723\u001b[1;33m         \u001b[0miloc\u001b[0m\u001b[1;33m.\u001b[0m\u001b[0m_setitem_with_indexer\u001b[0m\u001b[1;33m(\u001b[0m\u001b[0mindexer\u001b[0m\u001b[1;33m,\u001b[0m \u001b[0mvalue\u001b[0m\u001b[1;33m,\u001b[0m \u001b[0mself\u001b[0m\u001b[1;33m.\u001b[0m\u001b[0mname\u001b[0m\u001b[1;33m)\u001b[0m\u001b[1;33m\u001b[0m\u001b[1;33m\u001b[0m\u001b[0m\n\u001b[0m\u001b[0;32m    724\u001b[0m \u001b[1;33m\u001b[0m\u001b[0m\n\u001b[0;32m    725\u001b[0m     \u001b[1;32mdef\u001b[0m \u001b[0m_validate_key\u001b[0m\u001b[1;33m(\u001b[0m\u001b[0mself\u001b[0m\u001b[1;33m,\u001b[0m \u001b[0mkey\u001b[0m\u001b[1;33m,\u001b[0m \u001b[0maxis\u001b[0m\u001b[1;33m:\u001b[0m \u001b[0mint\u001b[0m\u001b[1;33m)\u001b[0m\u001b[1;33m:\u001b[0m\u001b[1;33m\u001b[0m\u001b[1;33m\u001b[0m\u001b[0m\n",
      "\u001b[1;32mc:\\Users\\jean-\\anaconda3\\lib\\site-packages\\pandas\\core\\indexing.py\u001b[0m in \u001b[0;36m_setitem_with_indexer\u001b[1;34m(self, indexer, value, name)\u001b[0m\n\u001b[0;32m   1728\u001b[0m         \u001b[1;32mif\u001b[0m \u001b[0mtake_split_path\u001b[0m\u001b[1;33m:\u001b[0m\u001b[1;33m\u001b[0m\u001b[1;33m\u001b[0m\u001b[0m\n\u001b[0;32m   1729\u001b[0m             \u001b[1;31m# We have to operate column-wise\u001b[0m\u001b[1;33m\u001b[0m\u001b[1;33m\u001b[0m\u001b[0m\n\u001b[1;32m-> 1730\u001b[1;33m             \u001b[0mself\u001b[0m\u001b[1;33m.\u001b[0m\u001b[0m_setitem_with_indexer_split_path\u001b[0m\u001b[1;33m(\u001b[0m\u001b[0mindexer\u001b[0m\u001b[1;33m,\u001b[0m \u001b[0mvalue\u001b[0m\u001b[1;33m,\u001b[0m \u001b[0mname\u001b[0m\u001b[1;33m)\u001b[0m\u001b[1;33m\u001b[0m\u001b[1;33m\u001b[0m\u001b[0m\n\u001b[0m\u001b[0;32m   1731\u001b[0m         \u001b[1;32melse\u001b[0m\u001b[1;33m:\u001b[0m\u001b[1;33m\u001b[0m\u001b[1;33m\u001b[0m\u001b[0m\n\u001b[0;32m   1732\u001b[0m             \u001b[0mself\u001b[0m\u001b[1;33m.\u001b[0m\u001b[0m_setitem_single_block\u001b[0m\u001b[1;33m(\u001b[0m\u001b[0mindexer\u001b[0m\u001b[1;33m,\u001b[0m \u001b[0mvalue\u001b[0m\u001b[1;33m,\u001b[0m \u001b[0mname\u001b[0m\u001b[1;33m)\u001b[0m\u001b[1;33m\u001b[0m\u001b[1;33m\u001b[0m\u001b[0m\n",
      "\u001b[1;32mc:\\Users\\jean-\\anaconda3\\lib\\site-packages\\pandas\\core\\indexing.py\u001b[0m in \u001b[0;36m_setitem_with_indexer_split_path\u001b[1;34m(self, indexer, value, name)\u001b[0m\n\u001b[0;32m   1806\u001b[0m \u001b[1;33m\u001b[0m\u001b[0m\n\u001b[0;32m   1807\u001b[0m             \u001b[1;32melse\u001b[0m\u001b[1;33m:\u001b[0m\u001b[1;33m\u001b[0m\u001b[1;33m\u001b[0m\u001b[0m\n\u001b[1;32m-> 1808\u001b[1;33m                 raise ValueError(\n\u001b[0m\u001b[0;32m   1809\u001b[0m                     \u001b[1;34m\"Must have equal len keys and value \"\u001b[0m\u001b[1;33m\u001b[0m\u001b[1;33m\u001b[0m\u001b[0m\n\u001b[0;32m   1810\u001b[0m                     \u001b[1;34m\"when setting with an iterable\"\u001b[0m\u001b[1;33m\u001b[0m\u001b[1;33m\u001b[0m\u001b[0m\n",
      "\u001b[1;31mValueError\u001b[0m: Must have equal len keys and value when setting with an iterable"
     ]
    }
   ],
   "source": [
    "dest_reduit_total.loc[len(dest_reduit_total)]=['Bordeaux',1,1,'Bordeaux',2,2,2,2,'Origine',3,3,3]\n",
    "dest_reduit_total"
   ]
  },
  {
   "cell_type": "code",
   "execution_count": null,
   "metadata": {},
   "outputs": [],
   "source": [
    "import pandas as pd\n",
    "import calcul_distances as cdist\n",
    "trajets_train = pd.read_csv('Outputs/results_Bordeaux_20221213T135825.csv')\n",
    "trajets_train_copy = trajets_train.copy()\n",
    "trajets_train_copy['mode']='Train'\n",
    "\n",
    "def calcul_tps_trajet(x):\n",
    "    return(x['total_time']-x['waiting_time'])\n",
    "\n",
    "trajets_train_copy['Tps_trajet_sec'] = trajets_train_copy.apply(calcul_tps_trajet,axis=1)\n",
    "\n",
    "lat_ori = trajets_train_copy['station_orig_lat'].iloc[0]\n",
    "lon_ori = trajets_train_copy['station_orig_lon'].iloc[0]\n",
    "\n",
    "\n",
    "def add_dist_df(x):\n",
    "    return(round(cdist.get_dist_km_2(lon_ori,lat_ori,x['station_dest_lon'],x['station_dest_lat']),1))\n",
    "\n",
    "trajets_train_copy['Distance']=trajets_train_copy.apply(add_dist_df, axis=1)\n",
    "\n",
    "trajets_train_reduit = trajets_train_copy[['depart','station_orig_lat','station_orig_lon','arrival','station_dest_lat','station_dest_lon','Tps_trajet_sec','total_time','Distance','mode']]\n",
    "\n",
    "new_names = {'depart':'cityFrom',\n",
    "             'station_orig_lat':'lat_ori',\n",
    "             'station_orig_lon':'lon_ori',\n",
    "             'arrival':'cityTo',\n",
    "             'station_dest_lat':'lat',\n",
    "             'station_dest_lon':'lon',\n",
    "             'total_time':'Tps_total_sec'\n",
    "             }\n",
    "trajets_train_reduit.rename(columns = new_names,inplace=True)\n",
    "trajets_train_reduit\n",
    "\n"
   ]
  },
  {
   "cell_type": "code",
   "execution_count": null,
   "metadata": {},
   "outputs": [],
   "source": [
    "dest_copy = dest.copy()\n",
    "dest_reduit= dest_copy[['cityFrom','lat_ori','lon_ori','cityTo','lat','lon','Tps_total_sec','Tps_trajet_sec','mode','Distance']]\n"
   ]
  },
  {
   "cell_type": "code",
   "execution_count": null,
   "metadata": {},
   "outputs": [],
   "source": [
    "dest_reduit_total = dest_reduit.append(trajets_train_reduit)\n",
    "\n",
    "dest_reduit_total"
   ]
  },
  {
   "cell_type": "code",
   "execution_count": null,
   "metadata": {},
   "outputs": [],
   "source": [
    "#Calcul des coordonnées centrées sur l'origine\n",
    "\n",
    "def lat_centre_ori(x):\n",
    "    return(x['lat']-x['lat_ori'])\n",
    "def lon_centre_ori(x):\n",
    "    return(x['lon']-x['lon_ori'])\n",
    "\n",
    "dest_reduit_total['lat_dest_centre'] = dest_reduit_total.apply(lat_centre_ori,axis=1)\n",
    "dest_reduit_total['lon_dest_centre'] = dest_reduit_total.apply(lon_centre_ori,axis=1)\n",
    "\n",
    "dest_reduit_total"
   ]
  }
 ],
 "metadata": {
  "kernelspec": {
   "display_name": "base",
   "language": "python",
   "name": "python3"
  },
  "language_info": {
   "codemirror_mode": {
    "name": "ipython",
    "version": 3
   },
   "file_extension": ".py",
   "mimetype": "text/x-python",
   "name": "python",
   "nbconvert_exporter": "python",
   "pygments_lexer": "ipython3",
   "version": "3.9.7 (default, Sep 16 2021, 16:59:28) [MSC v.1916 64 bit (AMD64)]"
  },
  "orig_nbformat": 4,
  "vscode": {
   "interpreter": {
    "hash": "6fc0abf1c8f97484722818a8d78c72e453033bfadc741d4a2b90bcbb5957298d"
   }
  }
 },
 "nbformat": 4,
 "nbformat_minor": 2
}
