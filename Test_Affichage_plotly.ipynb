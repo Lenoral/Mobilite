{
 "cells": [
  {
   "attachments": {},
   "cell_type": "markdown",
   "metadata": {},
   "source": [
    "Importation des modules"
   ]
  },
  {
   "cell_type": "code",
   "execution_count": 1,
   "metadata": {},
   "outputs": [
    {
     "name": "stdout",
     "output_type": "stream",
     "text": [
      "Charles de Gaulle Airport\n"
     ]
    }
   ],
   "source": [
    "import affichage_plotly_trajets as apt\n",
    "import pandas as pd"
   ]
  },
  {
   "attachments": {},
   "cell_type": "markdown",
   "metadata": {},
   "source": [
    "Choix des paramètres"
   ]
  },
  {
   "cell_type": "code",
   "execution_count": 2,
   "metadata": {},
   "outputs": [],
   "source": [
    "nom_ville='Paris'  #Ville d'origine\n",
    "minutes_max = 5000 #Période d'étude en minutes"
   ]
  },
  {
   "attachments": {},
   "cell_type": "markdown",
   "metadata": {},
   "source": [
    "Calcul des OD par mode"
   ]
  },
  {
   "cell_type": "code",
   "execution_count": 3,
   "metadata": {},
   "outputs": [
    {
     "name": "stdout",
     "output_type": "stream",
     "text": [
      "1 aéroport(s) trouvé(s) pour Bordeaux.\n",
      "Recherche des destinations depuis BOD (1/1).\n"
     ]
    },
    {
     "name": "stderr",
     "output_type": "stream",
     "text": [
      "c:\\Users\\jean-\\anaconda3\\lib\\site-packages\\pandas\\core\\indexing.py:1732: SettingWithCopyWarning: \n",
      "A value is trying to be set on a copy of a slice from a DataFrame\n",
      "\n",
      "See the caveats in the documentation: https://pandas.pydata.org/pandas-docs/stable/user_guide/indexing.html#returning-a-view-versus-a-copy\n",
      "  self._setitem_single_block(indexer, value, name)\n"
     ]
    },
    {
     "name": "stdout",
     "output_type": "stream",
     "text": [
      "Fin de la recherche des destinations pour BOD.\n",
      "No data\n",
      "Aigle done !\n",
      "Aachen done !\n",
      "No data\n",
      "Allaman done !\n",
      "Amsterdam done !\n",
      "Antwerpen done !\n",
      "Appenweier done !\n",
      "No data\n",
      "Augsburg done !\n",
      "No data\n",
      "Baden-Baden done !\n",
      "No data\n",
      "Basel done !\n",
      "Barcelona done !\n",
      "HTTP ERROR\n",
      "Bardonecchia done !\n",
      "No data\n",
      "Käerjeng done !\n",
      "No data\n",
      "No data\n",
      "No data\n",
      "Haute-Sorne done !\n",
      "No data\n",
      "Berg (Pfalz) done !\n",
      "No data\n",
      "Bettembourg done !\n",
      "No data\n",
      "Bex done !\n",
      "No data\n",
      "Biel/Bienne done !\n"
     ]
    }
   ],
   "source": [
    "dest_reduit_total  = apt.affichage_plotlty(nom_ville='Bordeaux', minutes_max=minutes_max)\n",
    "\n",
    "\n",
    "dest_reduit_total.drop_duplicates(subset=['mode','cityTo','cityFrom'], keep='last', inplace=True)\n",
    "dest_reduit_total.to_csv('Full_res/Resultats' + '_' + str(nom_ville) + '.csv')\n",
    "dest_reduit_total\n"
   ]
  },
  {
   "attachments": {},
   "cell_type": "markdown",
   "metadata": {},
   "source": [
    "Si résultats déjà générés"
   ]
  },
  {
   "cell_type": "code",
   "execution_count": 3,
   "metadata": {},
   "outputs": [],
   "source": [
    "dest_reduit_total=pd.read_csv('Full_res/Resultats_'+str(nom_ville)+'.csv')\n"
   ]
  },
  {
   "attachments": {},
   "cell_type": "markdown",
   "metadata": {},
   "source": [
    "Réduction aux villes principales"
   ]
  },
  {
   "cell_type": "code",
   "execution_count": 4,
   "metadata": {},
   "outputs": [
    {
     "data": {
      "text/html": [
       "<div>\n",
       "<style scoped>\n",
       "    .dataframe tbody tr th:only-of-type {\n",
       "        vertical-align: middle;\n",
       "    }\n",
       "\n",
       "    .dataframe tbody tr th {\n",
       "        vertical-align: top;\n",
       "    }\n",
       "\n",
       "    .dataframe thead th {\n",
       "        text-align: right;\n",
       "    }\n",
       "</style>\n",
       "<table border=\"1\" class=\"dataframe\">\n",
       "  <thead>\n",
       "    <tr style=\"text-align: right;\">\n",
       "      <th></th>\n",
       "      <th>Unnamed: 0</th>\n",
       "      <th>cityFrom</th>\n",
       "      <th>lat_ori</th>\n",
       "      <th>lon_ori</th>\n",
       "      <th>cityTo</th>\n",
       "      <th>lat</th>\n",
       "      <th>lon</th>\n",
       "      <th>station_orig</th>\n",
       "      <th>station_dest</th>\n",
       "      <th>Tps_trajet_sec</th>\n",
       "      <th>...</th>\n",
       "      <th>mode</th>\n",
       "      <th>Distance</th>\n",
       "      <th>Tps_transit_aller</th>\n",
       "      <th>Tps_transit_retour</th>\n",
       "      <th>Tps_total_transit</th>\n",
       "      <th>Tps_total_avec_transit</th>\n",
       "      <th>lat_dest_centre</th>\n",
       "      <th>lon_dest_centre</th>\n",
       "      <th>lat_prop_tps</th>\n",
       "      <th>lon_prop_tps</th>\n",
       "    </tr>\n",
       "  </thead>\n",
       "  <tbody>\n",
       "    <tr>\n",
       "      <th>17</th>\n",
       "      <td>229</td>\n",
       "      <td>Bordeaux</td>\n",
       "      <td>44.825873</td>\n",
       "      <td>-0.556697</td>\n",
       "      <td>Bayonne</td>\n",
       "      <td>43.496793</td>\n",
       "      <td>-1.470368</td>\n",
       "      <td>Bordeaux Saint-Jean</td>\n",
       "      <td>Bayonne</td>\n",
       "      <td>7320</td>\n",
       "      <td>...</td>\n",
       "      <td>Train</td>\n",
       "      <td>164.8</td>\n",
       "      <td>0</td>\n",
       "      <td>0</td>\n",
       "      <td>0</td>\n",
       "      <td>7320</td>\n",
       "      <td>-1.329080</td>\n",
       "      <td>-0.913671</td>\n",
       "      <td>-100.535640</td>\n",
       "      <td>-69.112844</td>\n",
       "    </tr>\n",
       "    <tr>\n",
       "      <th>33</th>\n",
       "      <td>299</td>\n",
       "      <td>Bordeaux</td>\n",
       "      <td>44.825873</td>\n",
       "      <td>-0.556697</td>\n",
       "      <td>Bordeaux</td>\n",
       "      <td>44.825873</td>\n",
       "      <td>-0.556697</td>\n",
       "      <td>Bordeaux</td>\n",
       "      <td>Bordeaux</td>\n",
       "      <td>0</td>\n",
       "      <td>...</td>\n",
       "      <td>Origine</td>\n",
       "      <td>0.0</td>\n",
       "      <td>0</td>\n",
       "      <td>0</td>\n",
       "      <td>0</td>\n",
       "      <td>0</td>\n",
       "      <td>0.000000</td>\n",
       "      <td>0.000000</td>\n",
       "      <td>0.000000</td>\n",
       "      <td>0.000000</td>\n",
       "    </tr>\n",
       "    <tr>\n",
       "      <th>117</th>\n",
       "      <td>400</td>\n",
       "      <td>Bordeaux</td>\n",
       "      <td>44.825873</td>\n",
       "      <td>-0.556697</td>\n",
       "      <td>Paris</td>\n",
       "      <td>48.841172</td>\n",
       "      <td>2.320514</td>\n",
       "      <td>Bordeaux</td>\n",
       "      <td>Paris</td>\n",
       "      <td>20596</td>\n",
       "      <td>...</td>\n",
       "      <td>Voiture</td>\n",
       "      <td>497.1</td>\n",
       "      <td>0</td>\n",
       "      <td>0</td>\n",
       "      <td>0</td>\n",
       "      <td>20596</td>\n",
       "      <td>4.015299</td>\n",
       "      <td>2.877211</td>\n",
       "      <td>279.000000</td>\n",
       "      <td>199.940055</td>\n",
       "    </tr>\n",
       "    <tr>\n",
       "      <th>125</th>\n",
       "      <td>408</td>\n",
       "      <td>Bordeaux</td>\n",
       "      <td>44.825873</td>\n",
       "      <td>-0.556697</td>\n",
       "      <td>Brest</td>\n",
       "      <td>48.387620</td>\n",
       "      <td>-4.480306</td>\n",
       "      <td>Bordeaux</td>\n",
       "      <td>Brest</td>\n",
       "      <td>22688</td>\n",
       "      <td>...</td>\n",
       "      <td>Voiture</td>\n",
       "      <td>496.5</td>\n",
       "      <td>0</td>\n",
       "      <td>0</td>\n",
       "      <td>0</td>\n",
       "      <td>22688</td>\n",
       "      <td>3.561747</td>\n",
       "      <td>-3.923609</td>\n",
       "      <td>254.000000</td>\n",
       "      <td>-279.979568</td>\n",
       "    </tr>\n",
       "    <tr>\n",
       "      <th>130</th>\n",
       "      <td>420</td>\n",
       "      <td>Bordeaux</td>\n",
       "      <td>44.825873</td>\n",
       "      <td>-0.556697</td>\n",
       "      <td>Lille</td>\n",
       "      <td>50.636577</td>\n",
       "      <td>3.069870</td>\n",
       "      <td>Bordeaux</td>\n",
       "      <td>Lille</td>\n",
       "      <td>28151</td>\n",
       "      <td>...</td>\n",
       "      <td>Voiture</td>\n",
       "      <td>700.5</td>\n",
       "      <td>0</td>\n",
       "      <td>0</td>\n",
       "      <td>0</td>\n",
       "      <td>28151</td>\n",
       "      <td>5.810704</td>\n",
       "      <td>3.626567</td>\n",
       "      <td>398.000000</td>\n",
       "      <td>248.414274</td>\n",
       "    </tr>\n",
       "    <tr>\n",
       "      <th>134</th>\n",
       "      <td>428</td>\n",
       "      <td>Bordeaux</td>\n",
       "      <td>44.825873</td>\n",
       "      <td>-0.556697</td>\n",
       "      <td>Marseille</td>\n",
       "      <td>43.302666</td>\n",
       "      <td>5.380407</td>\n",
       "      <td>Bordeaux</td>\n",
       "      <td>Marseille</td>\n",
       "      <td>22228</td>\n",
       "      <td>...</td>\n",
       "      <td>Voiture</td>\n",
       "      <td>503.6</td>\n",
       "      <td>0</td>\n",
       "      <td>0</td>\n",
       "      <td>0</td>\n",
       "      <td>22228</td>\n",
       "      <td>-1.523207</td>\n",
       "      <td>5.937104</td>\n",
       "      <td>-92.064277</td>\n",
       "      <td>358.844981</td>\n",
       "    </tr>\n",
       "    <tr>\n",
       "      <th>138</th>\n",
       "      <td>436</td>\n",
       "      <td>Bordeaux</td>\n",
       "      <td>44.825873</td>\n",
       "      <td>-0.556697</td>\n",
       "      <td>Lyon</td>\n",
       "      <td>45.760596</td>\n",
       "      <td>4.859409</td>\n",
       "      <td>Bordeaux</td>\n",
       "      <td>Lyon</td>\n",
       "      <td>19306</td>\n",
       "      <td>...</td>\n",
       "      <td>Voiture</td>\n",
       "      <td>436.1</td>\n",
       "      <td>0</td>\n",
       "      <td>0</td>\n",
       "      <td>0</td>\n",
       "      <td>19306</td>\n",
       "      <td>0.934723</td>\n",
       "      <td>5.416106</td>\n",
       "      <td>54.000000</td>\n",
       "      <td>317.079276</td>\n",
       "    </tr>\n",
       "    <tr>\n",
       "      <th>140</th>\n",
       "      <td>438</td>\n",
       "      <td>Bordeaux</td>\n",
       "      <td>44.825873</td>\n",
       "      <td>-0.556697</td>\n",
       "      <td>Toulouse</td>\n",
       "      <td>43.611206</td>\n",
       "      <td>1.453616</td>\n",
       "      <td>Bordeaux</td>\n",
       "      <td>Toulouse</td>\n",
       "      <td>8892</td>\n",
       "      <td>...</td>\n",
       "      <td>Voiture</td>\n",
       "      <td>209.5</td>\n",
       "      <td>0</td>\n",
       "      <td>0</td>\n",
       "      <td>0</td>\n",
       "      <td>8892</td>\n",
       "      <td>-1.214667</td>\n",
       "      <td>2.010313</td>\n",
       "      <td>-76.641294</td>\n",
       "      <td>126.843810</td>\n",
       "    </tr>\n",
       "    <tr>\n",
       "      <th>164</th>\n",
       "      <td>475</td>\n",
       "      <td>Bordeaux</td>\n",
       "      <td>44.825873</td>\n",
       "      <td>-0.556697</td>\n",
       "      <td>Nice</td>\n",
       "      <td>43.704556</td>\n",
       "      <td>7.261904</td>\n",
       "      <td>Bordeaux</td>\n",
       "      <td>Nice</td>\n",
       "      <td>27834</td>\n",
       "      <td>...</td>\n",
       "      <td>Voiture</td>\n",
       "      <td>634.7</td>\n",
       "      <td>0</td>\n",
       "      <td>0</td>\n",
       "      <td>0</td>\n",
       "      <td>27834</td>\n",
       "      <td>-1.121317</td>\n",
       "      <td>7.818601</td>\n",
       "      <td>-65.857113</td>\n",
       "      <td>459.201536</td>\n",
       "    </tr>\n",
       "    <tr>\n",
       "      <th>188</th>\n",
       "      <td>512</td>\n",
       "      <td>Bordeaux</td>\n",
       "      <td>44.825873</td>\n",
       "      <td>-0.556697</td>\n",
       "      <td>Strasbourg</td>\n",
       "      <td>48.584532</td>\n",
       "      <td>7.734793</td>\n",
       "      <td>Bordeaux</td>\n",
       "      <td>Strasbourg</td>\n",
       "      <td>35047</td>\n",
       "      <td>...</td>\n",
       "      <td>Voiture</td>\n",
       "      <td>757.2</td>\n",
       "      <td>0</td>\n",
       "      <td>0</td>\n",
       "      <td>0</td>\n",
       "      <td>35047</td>\n",
       "      <td>3.758659</td>\n",
       "      <td>8.291490</td>\n",
       "      <td>241.000000</td>\n",
       "      <td>532.006502</td>\n",
       "    </tr>\n",
       "    <tr>\n",
       "      <th>205</th>\n",
       "      <td>547</td>\n",
       "      <td>Bordeaux</td>\n",
       "      <td>44.825873</td>\n",
       "      <td>-0.556697</td>\n",
       "      <td>Nantes</td>\n",
       "      <td>47.217491</td>\n",
       "      <td>-1.542077</td>\n",
       "      <td>Bordeaux</td>\n",
       "      <td>Nantes</td>\n",
       "      <td>12288</td>\n",
       "      <td>...</td>\n",
       "      <td>Voiture</td>\n",
       "      <td>276.6</td>\n",
       "      <td>0</td>\n",
       "      <td>0</td>\n",
       "      <td>0</td>\n",
       "      <td>12288</td>\n",
       "      <td>2.391618</td>\n",
       "      <td>-0.985380</td>\n",
       "      <td>189.000000</td>\n",
       "      <td>-78.017914</td>\n",
       "    </tr>\n",
       "    <tr>\n",
       "      <th>224</th>\n",
       "      <td>573</td>\n",
       "      <td>Bordeaux</td>\n",
       "      <td>44.825873</td>\n",
       "      <td>-0.556697</td>\n",
       "      <td>Bayonne</td>\n",
       "      <td>43.496793</td>\n",
       "      <td>-1.470368</td>\n",
       "      <td>Bordeaux</td>\n",
       "      <td>Bayonne</td>\n",
       "      <td>8129</td>\n",
       "      <td>...</td>\n",
       "      <td>Voiture</td>\n",
       "      <td>164.8</td>\n",
       "      <td>0</td>\n",
       "      <td>0</td>\n",
       "      <td>0</td>\n",
       "      <td>8129</td>\n",
       "      <td>-1.329080</td>\n",
       "      <td>-0.913671</td>\n",
       "      <td>-111.646751</td>\n",
       "      <td>-76.751135</td>\n",
       "    </tr>\n",
       "    <tr>\n",
       "      <th>240</th>\n",
       "      <td>596</td>\n",
       "      <td>Bordeaux</td>\n",
       "      <td>44.825873</td>\n",
       "      <td>-0.556697</td>\n",
       "      <td>Bordeaux</td>\n",
       "      <td>44.825873</td>\n",
       "      <td>-0.556697</td>\n",
       "      <td>Bordeaux</td>\n",
       "      <td>Bordeaux</td>\n",
       "      <td>0</td>\n",
       "      <td>...</td>\n",
       "      <td>Voiture</td>\n",
       "      <td>0.0</td>\n",
       "      <td>0</td>\n",
       "      <td>0</td>\n",
       "      <td>0</td>\n",
       "      <td>0</td>\n",
       "      <td>0.000000</td>\n",
       "      <td>0.000000</td>\n",
       "      <td>0.000000</td>\n",
       "      <td>0.000000</td>\n",
       "    </tr>\n",
       "    <tr>\n",
       "      <th>253</th>\n",
       "      <td>609</td>\n",
       "      <td>Bordeaux</td>\n",
       "      <td>44.828611</td>\n",
       "      <td>-0.715278</td>\n",
       "      <td>Lille</td>\n",
       "      <td>50.563333</td>\n",
       "      <td>3.086944</td>\n",
       "      <td>Bordeaux–Mérignac</td>\n",
       "      <td>Lille Airport</td>\n",
       "      <td>5400</td>\n",
       "      <td>...</td>\n",
       "      <td>Avion</td>\n",
       "      <td>698.0</td>\n",
       "      <td>1453</td>\n",
       "      <td>908</td>\n",
       "      <td>2361</td>\n",
       "      <td>7761</td>\n",
       "      <td>5.734722</td>\n",
       "      <td>3.802222</td>\n",
       "      <td>75.000000</td>\n",
       "      <td>49.733364</td>\n",
       "    </tr>\n",
       "    <tr>\n",
       "      <th>255</th>\n",
       "      <td>611</td>\n",
       "      <td>Bordeaux</td>\n",
       "      <td>44.828611</td>\n",
       "      <td>-0.715278</td>\n",
       "      <td>Marseille</td>\n",
       "      <td>43.436667</td>\n",
       "      <td>5.215000</td>\n",
       "      <td>Bordeaux–Mérignac</td>\n",
       "      <td>Marseille Provence</td>\n",
       "      <td>18300</td>\n",
       "      <td>...</td>\n",
       "      <td>Avion</td>\n",
       "      <td>497.8</td>\n",
       "      <td>1453</td>\n",
       "      <td>0</td>\n",
       "      <td>1453</td>\n",
       "      <td>19753</td>\n",
       "      <td>-1.391944</td>\n",
       "      <td>5.930278</td>\n",
       "      <td>-69.694941</td>\n",
       "      <td>296.930320</td>\n",
       "    </tr>\n",
       "    <tr>\n",
       "      <th>257</th>\n",
       "      <td>613</td>\n",
       "      <td>Bordeaux</td>\n",
       "      <td>44.828611</td>\n",
       "      <td>-0.715278</td>\n",
       "      <td>Strasbourg</td>\n",
       "      <td>48.541944</td>\n",
       "      <td>7.634444</td>\n",
       "      <td>Bordeaux–Mérignac</td>\n",
       "      <td>Strasbourg Airport</td>\n",
       "      <td>5700</td>\n",
       "      <td>...</td>\n",
       "      <td>Avion</td>\n",
       "      <td>758.4</td>\n",
       "      <td>1453</td>\n",
       "      <td>1192</td>\n",
       "      <td>2645</td>\n",
       "      <td>8345</td>\n",
       "      <td>3.713333</td>\n",
       "      <td>8.349722</td>\n",
       "      <td>38.000000</td>\n",
       "      <td>86.803045</td>\n",
       "    </tr>\n",
       "    <tr>\n",
       "      <th>272</th>\n",
       "      <td>628</td>\n",
       "      <td>Bordeaux</td>\n",
       "      <td>44.828611</td>\n",
       "      <td>-0.715278</td>\n",
       "      <td>Lyon</td>\n",
       "      <td>45.725556</td>\n",
       "      <td>5.081111</td>\n",
       "      <td>Bordeaux–Mérignac</td>\n",
       "      <td>Lyon–Saint-Exupéry</td>\n",
       "      <td>4200</td>\n",
       "      <td>...</td>\n",
       "      <td>Avion</td>\n",
       "      <td>464.3</td>\n",
       "      <td>1453</td>\n",
       "      <td>2070</td>\n",
       "      <td>3523</td>\n",
       "      <td>7723</td>\n",
       "      <td>0.896945</td>\n",
       "      <td>5.796389</td>\n",
       "      <td>10.000000</td>\n",
       "      <td>69.176678</td>\n",
       "    </tr>\n",
       "    <tr>\n",
       "      <th>273</th>\n",
       "      <td>629</td>\n",
       "      <td>Bordeaux</td>\n",
       "      <td>44.828611</td>\n",
       "      <td>-0.715278</td>\n",
       "      <td>Nice</td>\n",
       "      <td>43.665278</td>\n",
       "      <td>7.215000</td>\n",
       "      <td>Bordeaux–Mérignac</td>\n",
       "      <td>Nice Côte d Azur International</td>\n",
       "      <td>4800</td>\n",
       "      <td>...</td>\n",
       "      <td>Avion</td>\n",
       "      <td>644.5</td>\n",
       "      <td>1453</td>\n",
       "      <td>0</td>\n",
       "      <td>1453</td>\n",
       "      <td>6253</td>\n",
       "      <td>-1.163333</td>\n",
       "      <td>7.930278</td>\n",
       "      <td>-11.611339</td>\n",
       "      <td>79.152870</td>\n",
       "    </tr>\n",
       "    <tr>\n",
       "      <th>372</th>\n",
       "      <td>746</td>\n",
       "      <td>Bordeaux</td>\n",
       "      <td>44.825873</td>\n",
       "      <td>-0.556697</td>\n",
       "      <td>Paris</td>\n",
       "      <td>48.841172</td>\n",
       "      <td>2.320514</td>\n",
       "      <td>Bordeaux Saint-Jean</td>\n",
       "      <td>Châtellerault Train Station</td>\n",
       "      <td>7560</td>\n",
       "      <td>...</td>\n",
       "      <td>Train</td>\n",
       "      <td>497.1</td>\n",
       "      <td>742</td>\n",
       "      <td>139</td>\n",
       "      <td>881</td>\n",
       "      <td>8441</td>\n",
       "      <td>4.015299</td>\n",
       "      <td>2.877211</td>\n",
       "      <td>102.000000</td>\n",
       "      <td>73.390309</td>\n",
       "    </tr>\n",
       "    <tr>\n",
       "      <th>380</th>\n",
       "      <td>754</td>\n",
       "      <td>Bordeaux</td>\n",
       "      <td>44.825873</td>\n",
       "      <td>-0.556697</td>\n",
       "      <td>Brest</td>\n",
       "      <td>48.387620</td>\n",
       "      <td>-4.480306</td>\n",
       "      <td>Bordeaux Saint-Jean</td>\n",
       "      <td>Rouen Rive Droite</td>\n",
       "      <td>18090</td>\n",
       "      <td>...</td>\n",
       "      <td>Train</td>\n",
       "      <td>496.5</td>\n",
       "      <td>742</td>\n",
       "      <td>234</td>\n",
       "      <td>976</td>\n",
       "      <td>19066</td>\n",
       "      <td>3.561747</td>\n",
       "      <td>-3.923609</td>\n",
       "      <td>202.000000</td>\n",
       "      <td>-223.238293</td>\n",
       "    </tr>\n",
       "    <tr>\n",
       "      <th>385</th>\n",
       "      <td>766</td>\n",
       "      <td>Bordeaux</td>\n",
       "      <td>44.825873</td>\n",
       "      <td>-0.556697</td>\n",
       "      <td>Lille</td>\n",
       "      <td>50.636577</td>\n",
       "      <td>3.069870</td>\n",
       "      <td>Bordeaux Saint-Jean</td>\n",
       "      <td>Alès Train Station</td>\n",
       "      <td>23700</td>\n",
       "      <td>...</td>\n",
       "      <td>Train</td>\n",
       "      <td>700.5</td>\n",
       "      <td>742</td>\n",
       "      <td>56</td>\n",
       "      <td>798</td>\n",
       "      <td>24498</td>\n",
       "      <td>5.810704</td>\n",
       "      <td>3.626567</td>\n",
       "      <td>335.000000</td>\n",
       "      <td>209.137093</td>\n",
       "    </tr>\n",
       "    <tr>\n",
       "      <th>389</th>\n",
       "      <td>774</td>\n",
       "      <td>Bordeaux</td>\n",
       "      <td>44.825873</td>\n",
       "      <td>-0.556697</td>\n",
       "      <td>Marseille</td>\n",
       "      <td>43.302666</td>\n",
       "      <td>5.380407</td>\n",
       "      <td>Bordeaux Saint-Jean</td>\n",
       "      <td>Nice Train Station</td>\n",
       "      <td>55320</td>\n",
       "      <td>...</td>\n",
       "      <td>Train</td>\n",
       "      <td>503.6</td>\n",
       "      <td>742</td>\n",
       "      <td>0</td>\n",
       "      <td>742</td>\n",
       "      <td>56062</td>\n",
       "      <td>-1.523207</td>\n",
       "      <td>5.937104</td>\n",
       "      <td>-229.125238</td>\n",
       "      <td>893.076495</td>\n",
       "    </tr>\n",
       "    <tr>\n",
       "      <th>393</th>\n",
       "      <td>782</td>\n",
       "      <td>Bordeaux</td>\n",
       "      <td>44.825873</td>\n",
       "      <td>-0.556697</td>\n",
       "      <td>Lyon</td>\n",
       "      <td>45.760596</td>\n",
       "      <td>4.859409</td>\n",
       "      <td>Bordeaux Saint-Jean</td>\n",
       "      <td>Montargis Train Station</td>\n",
       "      <td>25050</td>\n",
       "      <td>...</td>\n",
       "      <td>Train</td>\n",
       "      <td>436.1</td>\n",
       "      <td>742</td>\n",
       "      <td>291</td>\n",
       "      <td>1033</td>\n",
       "      <td>26083</td>\n",
       "      <td>0.934723</td>\n",
       "      <td>5.416106</td>\n",
       "      <td>71.000000</td>\n",
       "      <td>411.417998</td>\n",
       "    </tr>\n",
       "    <tr>\n",
       "      <th>395</th>\n",
       "      <td>784</td>\n",
       "      <td>Bordeaux</td>\n",
       "      <td>44.825873</td>\n",
       "      <td>-0.556697</td>\n",
       "      <td>Toulouse</td>\n",
       "      <td>43.611206</td>\n",
       "      <td>1.453616</td>\n",
       "      <td>Bordeaux Saint-Jean</td>\n",
       "      <td>Carcassonne Train Station</td>\n",
       "      <td>11160</td>\n",
       "      <td>...</td>\n",
       "      <td>Train</td>\n",
       "      <td>209.5</td>\n",
       "      <td>742</td>\n",
       "      <td>308</td>\n",
       "      <td>1050</td>\n",
       "      <td>12210</td>\n",
       "      <td>-1.214667</td>\n",
       "      <td>2.010313</td>\n",
       "      <td>-96.189478</td>\n",
       "      <td>159.196684</td>\n",
       "    </tr>\n",
       "    <tr>\n",
       "      <th>420</th>\n",
       "      <td>822</td>\n",
       "      <td>Bordeaux</td>\n",
       "      <td>44.825873</td>\n",
       "      <td>-0.556697</td>\n",
       "      <td>Nice</td>\n",
       "      <td>43.704556</td>\n",
       "      <td>7.261904</td>\n",
       "      <td>Bordeaux Saint-Jean</td>\n",
       "      <td>Troyes Train Station</td>\n",
       "      <td>44880</td>\n",
       "      <td>...</td>\n",
       "      <td>Train</td>\n",
       "      <td>634.7</td>\n",
       "      <td>742</td>\n",
       "      <td>230</td>\n",
       "      <td>972</td>\n",
       "      <td>45852</td>\n",
       "      <td>-1.121317</td>\n",
       "      <td>7.818601</td>\n",
       "      <td>-106.189093</td>\n",
       "      <td>740.424119</td>\n",
       "    </tr>\n",
       "    <tr>\n",
       "      <th>444</th>\n",
       "      <td>859</td>\n",
       "      <td>Bordeaux</td>\n",
       "      <td>44.825873</td>\n",
       "      <td>-0.556697</td>\n",
       "      <td>Strasbourg</td>\n",
       "      <td>48.584532</td>\n",
       "      <td>7.734793</td>\n",
       "      <td>Bordeaux Saint-Jean</td>\n",
       "      <td>Calais Ville</td>\n",
       "      <td>19560</td>\n",
       "      <td>...</td>\n",
       "      <td>Train</td>\n",
       "      <td>757.2</td>\n",
       "      <td>742</td>\n",
       "      <td>0</td>\n",
       "      <td>742</td>\n",
       "      <td>20302</td>\n",
       "      <td>3.758659</td>\n",
       "      <td>8.291490</td>\n",
       "      <td>134.000000</td>\n",
       "      <td>296.916917</td>\n",
       "    </tr>\n",
       "    <tr>\n",
       "      <th>461</th>\n",
       "      <td>894</td>\n",
       "      <td>Bordeaux</td>\n",
       "      <td>44.825873</td>\n",
       "      <td>-0.556697</td>\n",
       "      <td>Nantes</td>\n",
       "      <td>47.217491</td>\n",
       "      <td>-1.542077</td>\n",
       "      <td>Bordeaux Saint-Jean</td>\n",
       "      <td>Metz Ville</td>\n",
       "      <td>43320</td>\n",
       "      <td>...</td>\n",
       "      <td>Train</td>\n",
       "      <td>276.6</td>\n",
       "      <td>742</td>\n",
       "      <td>0</td>\n",
       "      <td>742</td>\n",
       "      <td>44062</td>\n",
       "      <td>2.391618</td>\n",
       "      <td>-0.985380</td>\n",
       "      <td>667.000000</td>\n",
       "      <td>-275.043622</td>\n",
       "    </tr>\n",
       "  </tbody>\n",
       "</table>\n",
       "<p>27 rows × 21 columns</p>\n",
       "</div>"
      ],
      "text/plain": [
       "     Unnamed: 0  cityFrom    lat_ori   lon_ori      cityTo        lat  \\\n",
       "17          229  Bordeaux  44.825873 -0.556697     Bayonne  43.496793   \n",
       "33          299  Bordeaux  44.825873 -0.556697    Bordeaux  44.825873   \n",
       "117         400  Bordeaux  44.825873 -0.556697       Paris  48.841172   \n",
       "125         408  Bordeaux  44.825873 -0.556697       Brest  48.387620   \n",
       "130         420  Bordeaux  44.825873 -0.556697       Lille  50.636577   \n",
       "134         428  Bordeaux  44.825873 -0.556697   Marseille  43.302666   \n",
       "138         436  Bordeaux  44.825873 -0.556697        Lyon  45.760596   \n",
       "140         438  Bordeaux  44.825873 -0.556697    Toulouse  43.611206   \n",
       "164         475  Bordeaux  44.825873 -0.556697        Nice  43.704556   \n",
       "188         512  Bordeaux  44.825873 -0.556697  Strasbourg  48.584532   \n",
       "205         547  Bordeaux  44.825873 -0.556697      Nantes  47.217491   \n",
       "224         573  Bordeaux  44.825873 -0.556697     Bayonne  43.496793   \n",
       "240         596  Bordeaux  44.825873 -0.556697    Bordeaux  44.825873   \n",
       "253         609  Bordeaux  44.828611 -0.715278       Lille  50.563333   \n",
       "255         611  Bordeaux  44.828611 -0.715278   Marseille  43.436667   \n",
       "257         613  Bordeaux  44.828611 -0.715278  Strasbourg  48.541944   \n",
       "272         628  Bordeaux  44.828611 -0.715278        Lyon  45.725556   \n",
       "273         629  Bordeaux  44.828611 -0.715278        Nice  43.665278   \n",
       "372         746  Bordeaux  44.825873 -0.556697       Paris  48.841172   \n",
       "380         754  Bordeaux  44.825873 -0.556697       Brest  48.387620   \n",
       "385         766  Bordeaux  44.825873 -0.556697       Lille  50.636577   \n",
       "389         774  Bordeaux  44.825873 -0.556697   Marseille  43.302666   \n",
       "393         782  Bordeaux  44.825873 -0.556697        Lyon  45.760596   \n",
       "395         784  Bordeaux  44.825873 -0.556697    Toulouse  43.611206   \n",
       "420         822  Bordeaux  44.825873 -0.556697        Nice  43.704556   \n",
       "444         859  Bordeaux  44.825873 -0.556697  Strasbourg  48.584532   \n",
       "461         894  Bordeaux  44.825873 -0.556697      Nantes  47.217491   \n",
       "\n",
       "          lon         station_orig                    station_dest  \\\n",
       "17  -1.470368  Bordeaux Saint-Jean                         Bayonne   \n",
       "33  -0.556697             Bordeaux                        Bordeaux   \n",
       "117  2.320514             Bordeaux                           Paris   \n",
       "125 -4.480306             Bordeaux                           Brest   \n",
       "130  3.069870             Bordeaux                           Lille   \n",
       "134  5.380407             Bordeaux                       Marseille   \n",
       "138  4.859409             Bordeaux                            Lyon   \n",
       "140  1.453616             Bordeaux                        Toulouse   \n",
       "164  7.261904             Bordeaux                            Nice   \n",
       "188  7.734793             Bordeaux                      Strasbourg   \n",
       "205 -1.542077             Bordeaux                          Nantes   \n",
       "224 -1.470368             Bordeaux                         Bayonne   \n",
       "240 -0.556697             Bordeaux                        Bordeaux   \n",
       "253  3.086944    Bordeaux–Mérignac                   Lille Airport   \n",
       "255  5.215000    Bordeaux–Mérignac              Marseille Provence   \n",
       "257  7.634444    Bordeaux–Mérignac              Strasbourg Airport   \n",
       "272  5.081111    Bordeaux–Mérignac              Lyon–Saint-Exupéry   \n",
       "273  7.215000    Bordeaux–Mérignac  Nice Côte d Azur International   \n",
       "372  2.320514  Bordeaux Saint-Jean     Châtellerault Train Station   \n",
       "380 -4.480306  Bordeaux Saint-Jean               Rouen Rive Droite   \n",
       "385  3.069870  Bordeaux Saint-Jean              Alès Train Station   \n",
       "389  5.380407  Bordeaux Saint-Jean              Nice Train Station   \n",
       "393  4.859409  Bordeaux Saint-Jean         Montargis Train Station   \n",
       "395  1.453616  Bordeaux Saint-Jean       Carcassonne Train Station   \n",
       "420  7.261904  Bordeaux Saint-Jean            Troyes Train Station   \n",
       "444  7.734793  Bordeaux Saint-Jean                    Calais Ville   \n",
       "461 -1.542077  Bordeaux Saint-Jean                      Metz Ville   \n",
       "\n",
       "     Tps_trajet_sec  ...     mode Distance  Tps_transit_aller  \\\n",
       "17             7320  ...    Train    164.8                  0   \n",
       "33                0  ...  Origine      0.0                  0   \n",
       "117           20596  ...  Voiture    497.1                  0   \n",
       "125           22688  ...  Voiture    496.5                  0   \n",
       "130           28151  ...  Voiture    700.5                  0   \n",
       "134           22228  ...  Voiture    503.6                  0   \n",
       "138           19306  ...  Voiture    436.1                  0   \n",
       "140            8892  ...  Voiture    209.5                  0   \n",
       "164           27834  ...  Voiture    634.7                  0   \n",
       "188           35047  ...  Voiture    757.2                  0   \n",
       "205           12288  ...  Voiture    276.6                  0   \n",
       "224            8129  ...  Voiture    164.8                  0   \n",
       "240               0  ...  Voiture      0.0                  0   \n",
       "253            5400  ...    Avion    698.0               1453   \n",
       "255           18300  ...    Avion    497.8               1453   \n",
       "257            5700  ...    Avion    758.4               1453   \n",
       "272            4200  ...    Avion    464.3               1453   \n",
       "273            4800  ...    Avion    644.5               1453   \n",
       "372            7560  ...    Train    497.1                742   \n",
       "380           18090  ...    Train    496.5                742   \n",
       "385           23700  ...    Train    700.5                742   \n",
       "389           55320  ...    Train    503.6                742   \n",
       "393           25050  ...    Train    436.1                742   \n",
       "395           11160  ...    Train    209.5                742   \n",
       "420           44880  ...    Train    634.7                742   \n",
       "444           19560  ...    Train    757.2                742   \n",
       "461           43320  ...    Train    276.6                742   \n",
       "\n",
       "     Tps_transit_retour  Tps_total_transit  Tps_total_avec_transit  \\\n",
       "17                    0                  0                    7320   \n",
       "33                    0                  0                       0   \n",
       "117                   0                  0                   20596   \n",
       "125                   0                  0                   22688   \n",
       "130                   0                  0                   28151   \n",
       "134                   0                  0                   22228   \n",
       "138                   0                  0                   19306   \n",
       "140                   0                  0                    8892   \n",
       "164                   0                  0                   27834   \n",
       "188                   0                  0                   35047   \n",
       "205                   0                  0                   12288   \n",
       "224                   0                  0                    8129   \n",
       "240                   0                  0                       0   \n",
       "253                 908               2361                    7761   \n",
       "255                   0               1453                   19753   \n",
       "257                1192               2645                    8345   \n",
       "272                2070               3523                    7723   \n",
       "273                   0               1453                    6253   \n",
       "372                 139                881                    8441   \n",
       "380                 234                976                   19066   \n",
       "385                  56                798                   24498   \n",
       "389                   0                742                   56062   \n",
       "393                 291               1033                   26083   \n",
       "395                 308               1050                   12210   \n",
       "420                 230                972                   45852   \n",
       "444                   0                742                   20302   \n",
       "461                   0                742                   44062   \n",
       "\n",
       "     lat_dest_centre  lon_dest_centre  lat_prop_tps  lon_prop_tps  \n",
       "17         -1.329080        -0.913671   -100.535640    -69.112844  \n",
       "33          0.000000         0.000000      0.000000      0.000000  \n",
       "117         4.015299         2.877211    279.000000    199.940055  \n",
       "125         3.561747        -3.923609    254.000000   -279.979568  \n",
       "130         5.810704         3.626567    398.000000    248.414274  \n",
       "134        -1.523207         5.937104    -92.064277    358.844981  \n",
       "138         0.934723         5.416106     54.000000    317.079276  \n",
       "140        -1.214667         2.010313    -76.641294    126.843810  \n",
       "164        -1.121317         7.818601    -65.857113    459.201536  \n",
       "188         3.758659         8.291490    241.000000    532.006502  \n",
       "205         2.391618        -0.985380    189.000000    -78.017914  \n",
       "224        -1.329080        -0.913671   -111.646751    -76.751135  \n",
       "240         0.000000         0.000000      0.000000      0.000000  \n",
       "253         5.734722         3.802222     75.000000     49.733364  \n",
       "255        -1.391944         5.930278    -69.694941    296.930320  \n",
       "257         3.713333         8.349722     38.000000     86.803045  \n",
       "272         0.896945         5.796389     10.000000     69.176678  \n",
       "273        -1.163333         7.930278    -11.611339     79.152870  \n",
       "372         4.015299         2.877211    102.000000     73.390309  \n",
       "380         3.561747        -3.923609    202.000000   -223.238293  \n",
       "385         5.810704         3.626567    335.000000    209.137093  \n",
       "389        -1.523207         5.937104   -229.125238    893.076495  \n",
       "393         0.934723         5.416106     71.000000    411.417998  \n",
       "395        -1.214667         2.010313    -96.189478    159.196684  \n",
       "420        -1.121317         7.818601   -106.189093    740.424119  \n",
       "444         3.758659         8.291490    134.000000    296.916917  \n",
       "461         2.391618        -0.985380    667.000000   -275.043622  \n",
       "\n",
       "[27 rows x 21 columns]"
      ]
     },
     "execution_count": 4,
     "metadata": {},
     "output_type": "execute_result"
    }
   ],
   "source": [
    "villes= ['Lille','Strasbourg','Paris','Brest','Bordeaux','Nantes', 'Nice','Lyon','Bayonne', 'Toulouse','Marseille']\n",
    "dest_reduit_total_red = dest_reduit_total.loc[dest_reduit_total['cityTo'].isin(villes)]\n",
    "dest_reduit_total_red"
   ]
  },
  {
   "cell_type": "code",
   "execution_count": 5,
   "metadata": {},
   "outputs": [
    {
     "data": {
      "application/vnd.plotly.v1+json": {
       "config": {
        "plotlyServerURL": "https://plot.ly"
       },
       "data": [
        {
         "hovertemplate": "<b>%{hovertext}</b><br><br>mode=Train<br>lon_prop_tps=%{x}<br>lat_prop_tps=%{y}<extra></extra>",
         "hovertext": [
          "Bayonne",
          "Paris",
          "Brest",
          "Lille",
          "Marseille",
          "Lyon",
          "Toulouse",
          "Nice",
          "Strasbourg",
          "Nantes"
         ],
         "legendgroup": "Train",
         "marker": {
          "color": "#636efa",
          "symbol": "circle"
         },
         "mode": "markers",
         "name": "Train",
         "orientation": "v",
         "showlegend": true,
         "type": "scatter",
         "x": [
          -69.11284374653023,
          73.39030942693688,
          -223.23829278720868,
          209.13709264330257,
          893.0764946110861,
          411.4179981032245,
          159.19668418357114,
          740.4241192951112,
          296.91691656846643,
          -275.04362237385953
         ],
         "xaxis": "x",
         "y": [
          -100.53563959744672,
          102,
          202,
          335,
          -229.12523818465496,
          71,
          -96.18947834849877,
          -106.18909344211832,
          134,
          667
         ],
         "yaxis": "y"
        },
        {
         "hovertemplate": "<b>%{hovertext}</b><br><br>mode=Origine<br>lon_prop_tps=%{x}<br>lat_prop_tps=%{y}<extra></extra>",
         "hovertext": [
          "Bordeaux"
         ],
         "legendgroup": "Origine",
         "marker": {
          "color": "#EF553B",
          "symbol": "circle"
         },
         "mode": "markers",
         "name": "Origine",
         "orientation": "v",
         "showlegend": true,
         "type": "scatter",
         "x": [
          0
         ],
         "xaxis": "x",
         "y": [
          0
         ],
         "yaxis": "y"
        },
        {
         "hovertemplate": "<b>%{hovertext}</b><br><br>mode=Voiture<br>lon_prop_tps=%{x}<br>lat_prop_tps=%{y}<extra></extra>",
         "hovertext": [
          "Paris",
          "Brest",
          "Lille",
          "Marseille",
          "Lyon",
          "Toulouse",
          "Nice",
          "Strasbourg",
          "Nantes",
          "Bayonne",
          "Bordeaux"
         ],
         "legendgroup": "Voiture",
         "marker": {
          "color": "#00cc96",
          "symbol": "circle"
         },
         "mode": "markers",
         "name": "Voiture",
         "orientation": "v",
         "showlegend": true,
         "type": "scatter",
         "x": [
          199.9400546239672,
          -279.97956809044723,
          248.41427405070087,
          358.8449805172671,
          317.0792763026288,
          126.84380965594217,
          459.2015360173825,
          532.0065017880902,
          -78.01791393651861,
          -76.7511348108667,
          0
         ],
         "xaxis": "x",
         "y": [
          279,
          254,
          398,
          -92.06427683240258,
          54,
          -76.64129403896513,
          -65.85711289812659,
          241,
          189,
          -111.64675058574376,
          0
         ],
         "yaxis": "y"
        },
        {
         "hovertemplate": "<b>%{hovertext}</b><br><br>mode=Avion<br>lon_prop_tps=%{x}<br>lat_prop_tps=%{y}<extra></extra>",
         "hovertext": [
          "Lille",
          "Marseille",
          "Strasbourg",
          "Lyon",
          "Nice"
         ],
         "legendgroup": "Avion",
         "marker": {
          "color": "#ab63fa",
          "symbol": "circle"
         },
         "mode": "markers",
         "name": "Avion",
         "orientation": "v",
         "showlegend": true,
         "type": "scatter",
         "x": [
          49.73336370141418,
          296.9303203451448,
          86.8030453503742,
          69.17667837658223,
          79.15286986935747
         ],
         "xaxis": "x",
         "y": [
          75,
          -69.69494142138073,
          38,
          10,
          -11.611338916962229
         ],
         "yaxis": "y"
        },
        {
         "mode": "text",
         "text": [
          "-1h",
          "-2h",
          "-3h",
          "-4h",
          "-5h",
          "-6h",
          "-12h"
         ],
         "type": "scatter",
         "x": [
          0,
          0,
          0,
          0,
          0,
          0,
          0
         ],
         "y": [
          40,
          90,
          150,
          220,
          280,
          340,
          700
         ]
        }
       ],
       "layout": {
        "autosize": true,
        "height": 1200,
        "legend": {
         "title": {
          "text": "mode"
         },
         "tracegroupgap": 0
        },
        "margin": {
         "b": 50,
         "l": 50,
         "pad": 5,
         "r": 50,
         "t": 50
        },
        "shapes": [
         {
          "line": {
           "color": "LightGreen"
          },
          "type": "circle",
          "x0": -60,
          "x1": 60,
          "xref": "x",
          "y0": -60,
          "y1": 60,
          "yref": "y"
         },
         {
          "line": {
           "color": "Green"
          },
          "type": "circle",
          "x0": -120,
          "x1": 120,
          "xref": "x",
          "y0": -120,
          "y1": 120,
          "yref": "y"
         },
         {
          "line": {
           "color": "LightSeaGreen"
          },
          "type": "circle",
          "x0": -180,
          "x1": 180,
          "xref": "x",
          "y0": -180,
          "y1": 180,
          "yref": "y"
         },
         {
          "line": {
           "color": "Blue"
          },
          "type": "circle",
          "x0": -240,
          "x1": 240,
          "xref": "x",
          "y0": -240,
          "y1": 240,
          "yref": "y"
         },
         {
          "line": {
           "color": "DarkBlue"
          },
          "type": "circle",
          "x0": -300,
          "x1": 300,
          "xref": "x",
          "y0": -300,
          "y1": 300,
          "yref": "y"
         },
         {
          "line": {
           "color": "Purple"
          },
          "type": "circle",
          "x0": -360,
          "x1": 360,
          "xref": "x",
          "y0": -360,
          "y1": 360,
          "yref": "y"
         },
         {
          "line": {
           "color": "Red"
          },
          "type": "circle",
          "x0": -720,
          "x1": 720,
          "xref": "x",
          "y0": -720,
          "y1": 720,
          "yref": "y"
         }
        ],
        "template": {
         "data": {
          "bar": [
           {
            "error_x": {
             "color": "#2a3f5f"
            },
            "error_y": {
             "color": "#2a3f5f"
            },
            "marker": {
             "line": {
              "color": "#E5ECF6",
              "width": 0.5
             },
             "pattern": {
              "fillmode": "overlay",
              "size": 10,
              "solidity": 0.2
             }
            },
            "type": "bar"
           }
          ],
          "barpolar": [
           {
            "marker": {
             "line": {
              "color": "#E5ECF6",
              "width": 0.5
             },
             "pattern": {
              "fillmode": "overlay",
              "size": 10,
              "solidity": 0.2
             }
            },
            "type": "barpolar"
           }
          ],
          "carpet": [
           {
            "aaxis": {
             "endlinecolor": "#2a3f5f",
             "gridcolor": "white",
             "linecolor": "white",
             "minorgridcolor": "white",
             "startlinecolor": "#2a3f5f"
            },
            "baxis": {
             "endlinecolor": "#2a3f5f",
             "gridcolor": "white",
             "linecolor": "white",
             "minorgridcolor": "white",
             "startlinecolor": "#2a3f5f"
            },
            "type": "carpet"
           }
          ],
          "choropleth": [
           {
            "colorbar": {
             "outlinewidth": 0,
             "ticks": ""
            },
            "type": "choropleth"
           }
          ],
          "contour": [
           {
            "colorbar": {
             "outlinewidth": 0,
             "ticks": ""
            },
            "colorscale": [
             [
              0,
              "#0d0887"
             ],
             [
              0.1111111111111111,
              "#46039f"
             ],
             [
              0.2222222222222222,
              "#7201a8"
             ],
             [
              0.3333333333333333,
              "#9c179e"
             ],
             [
              0.4444444444444444,
              "#bd3786"
             ],
             [
              0.5555555555555556,
              "#d8576b"
             ],
             [
              0.6666666666666666,
              "#ed7953"
             ],
             [
              0.7777777777777778,
              "#fb9f3a"
             ],
             [
              0.8888888888888888,
              "#fdca26"
             ],
             [
              1,
              "#f0f921"
             ]
            ],
            "type": "contour"
           }
          ],
          "contourcarpet": [
           {
            "colorbar": {
             "outlinewidth": 0,
             "ticks": ""
            },
            "type": "contourcarpet"
           }
          ],
          "heatmap": [
           {
            "colorbar": {
             "outlinewidth": 0,
             "ticks": ""
            },
            "colorscale": [
             [
              0,
              "#0d0887"
             ],
             [
              0.1111111111111111,
              "#46039f"
             ],
             [
              0.2222222222222222,
              "#7201a8"
             ],
             [
              0.3333333333333333,
              "#9c179e"
             ],
             [
              0.4444444444444444,
              "#bd3786"
             ],
             [
              0.5555555555555556,
              "#d8576b"
             ],
             [
              0.6666666666666666,
              "#ed7953"
             ],
             [
              0.7777777777777778,
              "#fb9f3a"
             ],
             [
              0.8888888888888888,
              "#fdca26"
             ],
             [
              1,
              "#f0f921"
             ]
            ],
            "type": "heatmap"
           }
          ],
          "heatmapgl": [
           {
            "colorbar": {
             "outlinewidth": 0,
             "ticks": ""
            },
            "colorscale": [
             [
              0,
              "#0d0887"
             ],
             [
              0.1111111111111111,
              "#46039f"
             ],
             [
              0.2222222222222222,
              "#7201a8"
             ],
             [
              0.3333333333333333,
              "#9c179e"
             ],
             [
              0.4444444444444444,
              "#bd3786"
             ],
             [
              0.5555555555555556,
              "#d8576b"
             ],
             [
              0.6666666666666666,
              "#ed7953"
             ],
             [
              0.7777777777777778,
              "#fb9f3a"
             ],
             [
              0.8888888888888888,
              "#fdca26"
             ],
             [
              1,
              "#f0f921"
             ]
            ],
            "type": "heatmapgl"
           }
          ],
          "histogram": [
           {
            "marker": {
             "pattern": {
              "fillmode": "overlay",
              "size": 10,
              "solidity": 0.2
             }
            },
            "type": "histogram"
           }
          ],
          "histogram2d": [
           {
            "colorbar": {
             "outlinewidth": 0,
             "ticks": ""
            },
            "colorscale": [
             [
              0,
              "#0d0887"
             ],
             [
              0.1111111111111111,
              "#46039f"
             ],
             [
              0.2222222222222222,
              "#7201a8"
             ],
             [
              0.3333333333333333,
              "#9c179e"
             ],
             [
              0.4444444444444444,
              "#bd3786"
             ],
             [
              0.5555555555555556,
              "#d8576b"
             ],
             [
              0.6666666666666666,
              "#ed7953"
             ],
             [
              0.7777777777777778,
              "#fb9f3a"
             ],
             [
              0.8888888888888888,
              "#fdca26"
             ],
             [
              1,
              "#f0f921"
             ]
            ],
            "type": "histogram2d"
           }
          ],
          "histogram2dcontour": [
           {
            "colorbar": {
             "outlinewidth": 0,
             "ticks": ""
            },
            "colorscale": [
             [
              0,
              "#0d0887"
             ],
             [
              0.1111111111111111,
              "#46039f"
             ],
             [
              0.2222222222222222,
              "#7201a8"
             ],
             [
              0.3333333333333333,
              "#9c179e"
             ],
             [
              0.4444444444444444,
              "#bd3786"
             ],
             [
              0.5555555555555556,
              "#d8576b"
             ],
             [
              0.6666666666666666,
              "#ed7953"
             ],
             [
              0.7777777777777778,
              "#fb9f3a"
             ],
             [
              0.8888888888888888,
              "#fdca26"
             ],
             [
              1,
              "#f0f921"
             ]
            ],
            "type": "histogram2dcontour"
           }
          ],
          "mesh3d": [
           {
            "colorbar": {
             "outlinewidth": 0,
             "ticks": ""
            },
            "type": "mesh3d"
           }
          ],
          "parcoords": [
           {
            "line": {
             "colorbar": {
              "outlinewidth": 0,
              "ticks": ""
             }
            },
            "type": "parcoords"
           }
          ],
          "pie": [
           {
            "automargin": true,
            "type": "pie"
           }
          ],
          "scatter": [
           {
            "fillpattern": {
             "fillmode": "overlay",
             "size": 10,
             "solidity": 0.2
            },
            "type": "scatter"
           }
          ],
          "scatter3d": [
           {
            "line": {
             "colorbar": {
              "outlinewidth": 0,
              "ticks": ""
             }
            },
            "marker": {
             "colorbar": {
              "outlinewidth": 0,
              "ticks": ""
             }
            },
            "type": "scatter3d"
           }
          ],
          "scattercarpet": [
           {
            "marker": {
             "colorbar": {
              "outlinewidth": 0,
              "ticks": ""
             }
            },
            "type": "scattercarpet"
           }
          ],
          "scattergeo": [
           {
            "marker": {
             "colorbar": {
              "outlinewidth": 0,
              "ticks": ""
             }
            },
            "type": "scattergeo"
           }
          ],
          "scattergl": [
           {
            "marker": {
             "colorbar": {
              "outlinewidth": 0,
              "ticks": ""
             }
            },
            "type": "scattergl"
           }
          ],
          "scattermapbox": [
           {
            "marker": {
             "colorbar": {
              "outlinewidth": 0,
              "ticks": ""
             }
            },
            "type": "scattermapbox"
           }
          ],
          "scatterpolar": [
           {
            "marker": {
             "colorbar": {
              "outlinewidth": 0,
              "ticks": ""
             }
            },
            "type": "scatterpolar"
           }
          ],
          "scatterpolargl": [
           {
            "marker": {
             "colorbar": {
              "outlinewidth": 0,
              "ticks": ""
             }
            },
            "type": "scatterpolargl"
           }
          ],
          "scatterternary": [
           {
            "marker": {
             "colorbar": {
              "outlinewidth": 0,
              "ticks": ""
             }
            },
            "type": "scatterternary"
           }
          ],
          "surface": [
           {
            "colorbar": {
             "outlinewidth": 0,
             "ticks": ""
            },
            "colorscale": [
             [
              0,
              "#0d0887"
             ],
             [
              0.1111111111111111,
              "#46039f"
             ],
             [
              0.2222222222222222,
              "#7201a8"
             ],
             [
              0.3333333333333333,
              "#9c179e"
             ],
             [
              0.4444444444444444,
              "#bd3786"
             ],
             [
              0.5555555555555556,
              "#d8576b"
             ],
             [
              0.6666666666666666,
              "#ed7953"
             ],
             [
              0.7777777777777778,
              "#fb9f3a"
             ],
             [
              0.8888888888888888,
              "#fdca26"
             ],
             [
              1,
              "#f0f921"
             ]
            ],
            "type": "surface"
           }
          ],
          "table": [
           {
            "cells": {
             "fill": {
              "color": "#EBF0F8"
             },
             "line": {
              "color": "white"
             }
            },
            "header": {
             "fill": {
              "color": "#C8D4E3"
             },
             "line": {
              "color": "white"
             }
            },
            "type": "table"
           }
          ]
         },
         "layout": {
          "annotationdefaults": {
           "arrowcolor": "#2a3f5f",
           "arrowhead": 0,
           "arrowwidth": 1
          },
          "autotypenumbers": "strict",
          "coloraxis": {
           "colorbar": {
            "outlinewidth": 0,
            "ticks": ""
           }
          },
          "colorscale": {
           "diverging": [
            [
             0,
             "#8e0152"
            ],
            [
             0.1,
             "#c51b7d"
            ],
            [
             0.2,
             "#de77ae"
            ],
            [
             0.3,
             "#f1b6da"
            ],
            [
             0.4,
             "#fde0ef"
            ],
            [
             0.5,
             "#f7f7f7"
            ],
            [
             0.6,
             "#e6f5d0"
            ],
            [
             0.7,
             "#b8e186"
            ],
            [
             0.8,
             "#7fbc41"
            ],
            [
             0.9,
             "#4d9221"
            ],
            [
             1,
             "#276419"
            ]
           ],
           "sequential": [
            [
             0,
             "#0d0887"
            ],
            [
             0.1111111111111111,
             "#46039f"
            ],
            [
             0.2222222222222222,
             "#7201a8"
            ],
            [
             0.3333333333333333,
             "#9c179e"
            ],
            [
             0.4444444444444444,
             "#bd3786"
            ],
            [
             0.5555555555555556,
             "#d8576b"
            ],
            [
             0.6666666666666666,
             "#ed7953"
            ],
            [
             0.7777777777777778,
             "#fb9f3a"
            ],
            [
             0.8888888888888888,
             "#fdca26"
            ],
            [
             1,
             "#f0f921"
            ]
           ],
           "sequentialminus": [
            [
             0,
             "#0d0887"
            ],
            [
             0.1111111111111111,
             "#46039f"
            ],
            [
             0.2222222222222222,
             "#7201a8"
            ],
            [
             0.3333333333333333,
             "#9c179e"
            ],
            [
             0.4444444444444444,
             "#bd3786"
            ],
            [
             0.5555555555555556,
             "#d8576b"
            ],
            [
             0.6666666666666666,
             "#ed7953"
            ],
            [
             0.7777777777777778,
             "#fb9f3a"
            ],
            [
             0.8888888888888888,
             "#fdca26"
            ],
            [
             1,
             "#f0f921"
            ]
           ]
          },
          "colorway": [
           "#636efa",
           "#EF553B",
           "#00cc96",
           "#ab63fa",
           "#FFA15A",
           "#19d3f3",
           "#FF6692",
           "#B6E880",
           "#FF97FF",
           "#FECB52"
          ],
          "font": {
           "color": "#2a3f5f"
          },
          "geo": {
           "bgcolor": "white",
           "lakecolor": "white",
           "landcolor": "#E5ECF6",
           "showlakes": true,
           "showland": true,
           "subunitcolor": "white"
          },
          "hoverlabel": {
           "align": "left"
          },
          "hovermode": "closest",
          "mapbox": {
           "style": "light"
          },
          "paper_bgcolor": "white",
          "plot_bgcolor": "#E5ECF6",
          "polar": {
           "angularaxis": {
            "gridcolor": "white",
            "linecolor": "white",
            "ticks": ""
           },
           "bgcolor": "#E5ECF6",
           "radialaxis": {
            "gridcolor": "white",
            "linecolor": "white",
            "ticks": ""
           }
          },
          "scene": {
           "xaxis": {
            "backgroundcolor": "#E5ECF6",
            "gridcolor": "white",
            "gridwidth": 2,
            "linecolor": "white",
            "showbackground": true,
            "ticks": "",
            "zerolinecolor": "white"
           },
           "yaxis": {
            "backgroundcolor": "#E5ECF6",
            "gridcolor": "white",
            "gridwidth": 2,
            "linecolor": "white",
            "showbackground": true,
            "ticks": "",
            "zerolinecolor": "white"
           },
           "zaxis": {
            "backgroundcolor": "#E5ECF6",
            "gridcolor": "white",
            "gridwidth": 2,
            "linecolor": "white",
            "showbackground": true,
            "ticks": "",
            "zerolinecolor": "white"
           }
          },
          "shapedefaults": {
           "line": {
            "color": "#2a3f5f"
           }
          },
          "ternary": {
           "aaxis": {
            "gridcolor": "white",
            "linecolor": "white",
            "ticks": ""
           },
           "baxis": {
            "gridcolor": "white",
            "linecolor": "white",
            "ticks": ""
           },
           "bgcolor": "#E5ECF6",
           "caxis": {
            "gridcolor": "white",
            "linecolor": "white",
            "ticks": ""
           }
          },
          "title": {
           "x": 0.05
          },
          "xaxis": {
           "automargin": true,
           "gridcolor": "white",
           "linecolor": "white",
           "ticks": "",
           "title": {
            "standoff": 15
           },
           "zerolinecolor": "white",
           "zerolinewidth": 2
          },
          "yaxis": {
           "automargin": true,
           "gridcolor": "white",
           "linecolor": "white",
           "ticks": "",
           "title": {
            "standoff": 15
           },
           "zerolinecolor": "white",
           "zerolinewidth": 2
          }
         }
        },
        "title": {
         "text": "Destinations depuis Bordeaux"
        },
        "width": 1600,
        "xaxis": {
         "anchor": "y",
         "domain": [
          0,
          1
         ],
         "title": {
          "text": "lon_prop_tps"
         }
        },
        "yaxis": {
         "anchor": "x",
         "domain": [
          0,
          1
         ],
         "title": {
          "text": "lat_prop_tps"
         }
        }
       }
      }
     },
     "metadata": {},
     "output_type": "display_data"
    },
    {
     "data": {
      "text/plain": [
       "()"
      ]
     },
     "execution_count": 5,
     "metadata": {},
     "output_type": "execute_result"
    }
   ],
   "source": [
    "apt.affichage_classique(dest_reduit_total_red)"
   ]
  }
 ],
 "metadata": {
  "kernelspec": {
   "display_name": "base",
   "language": "python",
   "name": "python3"
  },
  "language_info": {
   "codemirror_mode": {
    "name": "ipython",
    "version": 3
   },
   "file_extension": ".py",
   "mimetype": "text/x-python",
   "name": "python",
   "nbconvert_exporter": "python",
   "pygments_lexer": "ipython3",
   "version": "3.9.7"
  },
  "orig_nbformat": 4,
  "vscode": {
   "interpreter": {
    "hash": "6fc0abf1c8f97484722818a8d78c72e453033bfadc741d4a2b90bcbb5957298d"
   }
  }
 },
 "nbformat": 4,
 "nbformat_minor": 2
}
