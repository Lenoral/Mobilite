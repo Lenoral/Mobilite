{
 "cells": [
  {
   "cell_type": "code",
   "execution_count": 1,
   "metadata": {
    "collapsed": true
   },
   "outputs": [],
   "source": [
    "import pandas as pd\n",
    "import requests\n",
    "import json"
   ]
  },
  {
   "cell_type": "code",
   "execution_count": 2,
   "outputs": [],
   "source": [
    "def execute_req(api_url, authorisation, parameters):\n",
    "    \"\"\"\n",
    "    Execute request of data\n",
    "    \"\"\"\n",
    "    r = requests.get(\n",
    "        api_url,\n",
    "        params=parameters,\n",
    "        auth=(authorisation, '')\n",
    "    )\n",
    "    if r.status_code != 200:  # see HTTP errors\n",
    "        print(\"HTTP ERROR\")\n",
    "        return\n",
    "    else:\n",
    "        result = json.loads(r.content.decode())\n",
    "        return result\n",
    "\n",
    "def page_gares(numero_page):\n",
    "    return requests.get(\n",
    "        ('https://api.sncf.com/v1/coverage/sncf/stop_areas?start_page={}').format(numero_page),\n",
    "        auth=(\"42f6483b-fd9a-483a-89b8-4286395fd523\", ''))"
   ],
   "metadata": {
    "collapsed": false
   }
  },
  {
   "cell_type": "code",
   "execution_count": 5,
   "outputs": [],
   "source": [
    "page_initiale = page_gares(0)\n",
    "item_per_page = page_initiale.json()['pagination']['items_per_page']\n",
    "total_items = page_initiale.json()['pagination']['total_result']\n",
    "dfs = []"
   ],
   "metadata": {
    "collapsed": false
   }
  },
  {
   "cell_type": "code",
   "execution_count": 6,
   "outputs": [],
   "source": [
    "page = 1\n",
    "stations_page = page_gares(page)\n",
    "ensemble_stations = stations_page.json()"
   ],
   "metadata": {
    "collapsed": false
   }
  },
  {
   "cell_type": "code",
   "execution_count": 39,
   "outputs": [],
   "source": [
    "stations = ensemble_stations['stop_areas']"
   ],
   "metadata": {
    "collapsed": false
   }
  },
  {
   "cell_type": "code",
   "execution_count": 40,
   "outputs": [
    {
     "data": {
      "text/plain": "'87781278'"
     },
     "execution_count": 40,
     "metadata": {},
     "output_type": "execute_result"
    }
   ],
   "source": [
    "stations[1]['codes'][1]['value']"
   ],
   "metadata": {
    "collapsed": false
   }
  },
  {
   "cell_type": "code",
   "execution_count": 22,
   "outputs": [
    {
     "data": {
      "text/plain": "                                               codes      name links  \\\n0  [{'type': 'source', 'value': '87757559'}, {'ty...      Agay    []   \n1  [{'type': 'source', 'value': '87781278'}, {'ty...      Agde    []   \n2  [{'type': 'source', 'value': '87586008'}, {'ty...      Agen    []   \n3  [{'type': 'source', 'value': '87595157'}, {'ty...    Agonac    []   \n4  [{'type': 'source', 'value': '87783399'}, {'ty...  Aguessac    []   \n\n                                               coord                 label  \\\n0               {'lat': '43.43137', 'lon': '6.8565'}  Agay (Saint-Raphaël)   \n1             {'lat': '43.31728', 'lon': '3.466203'}           Agde (Agde)   \n2  {'lat': '44.207967', 'lon': '0.6208669999999999'}           Agen (Agen)   \n3            {'lat': '45.286605', 'lon': '0.748653'}       Agonac (Agonac)   \n4            {'lat': '44.153724', 'lon': '3.097892'}   Aguessac (Aguessac)   \n\n                              administrative_regions      timezone  \\\n0  [{'insee': '83118', 'name': 'Saint-Raphaël', '...  Europe/Paris   \n1  [{'insee': '34003', 'name': 'Agde', 'level': 8...  Europe/Paris   \n2  [{'insee': '47001', 'name': 'Agen', 'level': 8...  Europe/Paris   \n3  [{'insee': '24002', 'name': 'Agonac', 'level':...  Europe/Paris   \n4  [{'insee': '12002', 'name': 'Aguessac', 'level...  Europe/Paris   \n\n                        id  \n0  stop_area:SNCF:87757559  \n1  stop_area:SNCF:87781278  \n2  stop_area:SNCF:87586008  \n3  stop_area:SNCF:87595157  \n4  stop_area:SNCF:87783399  ",
      "text/html": "<div>\n<style scoped>\n    .dataframe tbody tr th:only-of-type {\n        vertical-align: middle;\n    }\n\n    .dataframe tbody tr th {\n        vertical-align: top;\n    }\n\n    .dataframe thead th {\n        text-align: right;\n    }\n</style>\n<table border=\"1\" class=\"dataframe\">\n  <thead>\n    <tr style=\"text-align: right;\">\n      <th></th>\n      <th>codes</th>\n      <th>name</th>\n      <th>links</th>\n      <th>coord</th>\n      <th>label</th>\n      <th>administrative_regions</th>\n      <th>timezone</th>\n      <th>id</th>\n    </tr>\n  </thead>\n  <tbody>\n    <tr>\n      <th>0</th>\n      <td>[{'type': 'source', 'value': '87757559'}, {'ty...</td>\n      <td>Agay</td>\n      <td>[]</td>\n      <td>{'lat': '43.43137', 'lon': '6.8565'}</td>\n      <td>Agay (Saint-Raphaël)</td>\n      <td>[{'insee': '83118', 'name': 'Saint-Raphaël', '...</td>\n      <td>Europe/Paris</td>\n      <td>stop_area:SNCF:87757559</td>\n    </tr>\n    <tr>\n      <th>1</th>\n      <td>[{'type': 'source', 'value': '87781278'}, {'ty...</td>\n      <td>Agde</td>\n      <td>[]</td>\n      <td>{'lat': '43.31728', 'lon': '3.466203'}</td>\n      <td>Agde (Agde)</td>\n      <td>[{'insee': '34003', 'name': 'Agde', 'level': 8...</td>\n      <td>Europe/Paris</td>\n      <td>stop_area:SNCF:87781278</td>\n    </tr>\n    <tr>\n      <th>2</th>\n      <td>[{'type': 'source', 'value': '87586008'}, {'ty...</td>\n      <td>Agen</td>\n      <td>[]</td>\n      <td>{'lat': '44.207967', 'lon': '0.6208669999999999'}</td>\n      <td>Agen (Agen)</td>\n      <td>[{'insee': '47001', 'name': 'Agen', 'level': 8...</td>\n      <td>Europe/Paris</td>\n      <td>stop_area:SNCF:87586008</td>\n    </tr>\n    <tr>\n      <th>3</th>\n      <td>[{'type': 'source', 'value': '87595157'}, {'ty...</td>\n      <td>Agonac</td>\n      <td>[]</td>\n      <td>{'lat': '45.286605', 'lon': '0.748653'}</td>\n      <td>Agonac (Agonac)</td>\n      <td>[{'insee': '24002', 'name': 'Agonac', 'level':...</td>\n      <td>Europe/Paris</td>\n      <td>stop_area:SNCF:87595157</td>\n    </tr>\n    <tr>\n      <th>4</th>\n      <td>[{'type': 'source', 'value': '87783399'}, {'ty...</td>\n      <td>Aguessac</td>\n      <td>[]</td>\n      <td>{'lat': '44.153724', 'lon': '3.097892'}</td>\n      <td>Aguessac (Aguessac)</td>\n      <td>[{'insee': '12002', 'name': 'Aguessac', 'level...</td>\n      <td>Europe/Paris</td>\n      <td>stop_area:SNCF:87783399</td>\n    </tr>\n  </tbody>\n</table>\n</div>"
     },
     "execution_count": 22,
     "metadata": {},
     "output_type": "execute_result"
    }
   ],
   "source": [
    "stations_2 = pd.DataFrame(stations)"
   ],
   "metadata": {
    "collapsed": false
   }
  },
  {
   "cell_type": "code",
   "execution_count": 3,
   "outputs": [],
   "source": [
    "def get_insee(adm_dict):\n",
    "    if isinstance(adm_dict, float):\n",
    "        return -1\n",
    "    else:\n",
    "        adm_dict = adm_dict[0]\n",
    "        if 'insee' in adm_dict.keys():\n",
    "            return adm_dict['insee']\n",
    "        else:\n",
    "            return -1\n",
    "\n",
    "def get_lat(adm_dict):\n",
    "    if isinstance(adm_dict, float):\n",
    "        return -1\n",
    "    else:\n",
    "        adm_dict = adm_dict[0]\n",
    "        return adm_dict['coord']['lat']\n",
    "\n",
    "def get_lon(adm_dict):\n",
    "    if isinstance(adm_dict, float):\n",
    "        return -1\n",
    "    else:\n",
    "        adm_dict = adm_dict[0]\n",
    "        return adm_dict['coord']['lon']"
   ],
   "metadata": {
    "collapsed": false
   }
  },
  {
   "cell_type": "code",
   "execution_count": 28,
   "outputs": [],
   "source": [
    "stations_2['insee'] = stations_2['administrative_regions'].apply(get_insee)"
   ],
   "metadata": {
    "collapsed": false
   }
  },
  {
   "cell_type": "code",
   "execution_count": 29,
   "outputs": [
    {
     "data": {
      "text/plain": "                                               codes      name links  \\\n0  [{'type': 'source', 'value': '87757559'}, {'ty...      Agay    []   \n1  [{'type': 'source', 'value': '87781278'}, {'ty...      Agde    []   \n2  [{'type': 'source', 'value': '87586008'}, {'ty...      Agen    []   \n3  [{'type': 'source', 'value': '87595157'}, {'ty...    Agonac    []   \n4  [{'type': 'source', 'value': '87783399'}, {'ty...  Aguessac    []   \n\n                                               coord                 label  \\\n0               {'lat': '43.43137', 'lon': '6.8565'}  Agay (Saint-Raphaël)   \n1             {'lat': '43.31728', 'lon': '3.466203'}           Agde (Agde)   \n2  {'lat': '44.207967', 'lon': '0.6208669999999999'}           Agen (Agen)   \n3            {'lat': '45.286605', 'lon': '0.748653'}       Agonac (Agonac)   \n4            {'lat': '44.153724', 'lon': '3.097892'}   Aguessac (Aguessac)   \n\n                              administrative_regions      timezone  \\\n0  [{'insee': '83118', 'name': 'Saint-Raphaël', '...  Europe/Paris   \n1  [{'insee': '34003', 'name': 'Agde', 'level': 8...  Europe/Paris   \n2  [{'insee': '47001', 'name': 'Agen', 'level': 8...  Europe/Paris   \n3  [{'insee': '24002', 'name': 'Agonac', 'level':...  Europe/Paris   \n4  [{'insee': '12002', 'name': 'Aguessac', 'level...  Europe/Paris   \n\n                        id  insee  \n0  stop_area:SNCF:87757559  83118  \n1  stop_area:SNCF:87781278  34003  \n2  stop_area:SNCF:87586008  47001  \n3  stop_area:SNCF:87595157  24002  \n4  stop_area:SNCF:87783399  12002  ",
      "text/html": "<div>\n<style scoped>\n    .dataframe tbody tr th:only-of-type {\n        vertical-align: middle;\n    }\n\n    .dataframe tbody tr th {\n        vertical-align: top;\n    }\n\n    .dataframe thead th {\n        text-align: right;\n    }\n</style>\n<table border=\"1\" class=\"dataframe\">\n  <thead>\n    <tr style=\"text-align: right;\">\n      <th></th>\n      <th>codes</th>\n      <th>name</th>\n      <th>links</th>\n      <th>coord</th>\n      <th>label</th>\n      <th>administrative_regions</th>\n      <th>timezone</th>\n      <th>id</th>\n      <th>insee</th>\n    </tr>\n  </thead>\n  <tbody>\n    <tr>\n      <th>0</th>\n      <td>[{'type': 'source', 'value': '87757559'}, {'ty...</td>\n      <td>Agay</td>\n      <td>[]</td>\n      <td>{'lat': '43.43137', 'lon': '6.8565'}</td>\n      <td>Agay (Saint-Raphaël)</td>\n      <td>[{'insee': '83118', 'name': 'Saint-Raphaël', '...</td>\n      <td>Europe/Paris</td>\n      <td>stop_area:SNCF:87757559</td>\n      <td>83118</td>\n    </tr>\n    <tr>\n      <th>1</th>\n      <td>[{'type': 'source', 'value': '87781278'}, {'ty...</td>\n      <td>Agde</td>\n      <td>[]</td>\n      <td>{'lat': '43.31728', 'lon': '3.466203'}</td>\n      <td>Agde (Agde)</td>\n      <td>[{'insee': '34003', 'name': 'Agde', 'level': 8...</td>\n      <td>Europe/Paris</td>\n      <td>stop_area:SNCF:87781278</td>\n      <td>34003</td>\n    </tr>\n    <tr>\n      <th>2</th>\n      <td>[{'type': 'source', 'value': '87586008'}, {'ty...</td>\n      <td>Agen</td>\n      <td>[]</td>\n      <td>{'lat': '44.207967', 'lon': '0.6208669999999999'}</td>\n      <td>Agen (Agen)</td>\n      <td>[{'insee': '47001', 'name': 'Agen', 'level': 8...</td>\n      <td>Europe/Paris</td>\n      <td>stop_area:SNCF:87586008</td>\n      <td>47001</td>\n    </tr>\n    <tr>\n      <th>3</th>\n      <td>[{'type': 'source', 'value': '87595157'}, {'ty...</td>\n      <td>Agonac</td>\n      <td>[]</td>\n      <td>{'lat': '45.286605', 'lon': '0.748653'}</td>\n      <td>Agonac (Agonac)</td>\n      <td>[{'insee': '24002', 'name': 'Agonac', 'level':...</td>\n      <td>Europe/Paris</td>\n      <td>stop_area:SNCF:87595157</td>\n      <td>24002</td>\n    </tr>\n    <tr>\n      <th>4</th>\n      <td>[{'type': 'source', 'value': '87783399'}, {'ty...</td>\n      <td>Aguessac</td>\n      <td>[]</td>\n      <td>{'lat': '44.153724', 'lon': '3.097892'}</td>\n      <td>Aguessac (Aguessac)</td>\n      <td>[{'insee': '12002', 'name': 'Aguessac', 'level...</td>\n      <td>Europe/Paris</td>\n      <td>stop_area:SNCF:87783399</td>\n      <td>12002</td>\n    </tr>\n  </tbody>\n</table>\n</div>"
     },
     "execution_count": 29,
     "metadata": {},
     "output_type": "execute_result"
    }
   ],
   "source": [
    "stations_2.head(5)"
   ],
   "metadata": {
    "collapsed": false
   }
  },
  {
   "cell_type": "code",
   "execution_count": 7,
   "outputs": [
    {
     "name": "stdout",
     "output_type": "stream",
     "text": [
      "Page 0 --- (25, 13)\n",
      "Page 10 --- (25, 13)\n",
      "Page 20 --- (25, 13)\n",
      "Page 30 --- (25, 13)\n",
      "Page 40 --- (25, 13)\n",
      "Page 50 --- (25, 13)\n",
      "Page 60 --- (25, 13)\n",
      "Page 70 --- (25, 13)\n",
      "Page 80 --- (25, 13)\n",
      "Page 90 --- (25, 13)\n",
      "Page 100 --- (25, 13)\n",
      "Page 110 --- (25, 13)\n",
      "Page 120 --- (25, 13)\n",
      "Page 130 --- (25, 13)\n",
      "Page 140 --- (25, 13)\n",
      "Page 150 --- (25, 13)\n",
      "Page 160 --- (25, 13)\n",
      "Page 170 --- (25, 13)\n",
      "Page 180 --- (25, 13)\n",
      "Page 190 --- (25, 13)\n"
     ]
    }
   ],
   "source": [
    "for page in range(int(total_items / item_per_page) + 1):\n",
    "    stations_page = page_gares(page)\n",
    "\n",
    "    ensemble_stations = stations_page.json()\n",
    "\n",
    "    if 'stop_areas' not in ensemble_stations:\n",
    "        # pas d'arrêt\n",
    "        continue\n",
    "\n",
    "    stations = ensemble_stations['stop_areas']\n",
    "    stations = pd.DataFrame(stations)\n",
    "    stations['insee'] = stations['administrative_regions'].apply(get_insee)\n",
    "    # stations['uic'] = stations['codes'].apply(lambda x: x[1]['value'])\n",
    "    stations['lat'] = stations['coord'].apply(lambda x: x['lat'])\n",
    "    stations['lon'] = stations['coord'].apply(lambda x: x['lon'])\n",
    "    stations['lat_city'] = stations.administrative_regions.apply(get_lat)\n",
    "    stations['lon_city'] = stations.administrative_regions.apply(get_lon)\n",
    "\n",
    "    dfs.append(stations)\n",
    "    if page % 10 == 0:\n",
    "        print(\"Page\", page, \"---\", stations.shape)\n"
   ],
   "metadata": {
    "collapsed": false
   }
  },
  {
   "cell_type": "code",
   "execution_count": 8,
   "outputs": [],
   "source": [
    "gares = pd.concat(dfs)\n",
    "gares.to_csv(\"./data/ensemble_gares.csv\")"
   ],
   "metadata": {
    "collapsed": false
   }
  },
  {
   "cell_type": "code",
   "execution_count": 10,
   "outputs": [],
   "source": [
    "def get_name(adm_dict):\n",
    "    if isinstance(adm_dict, float):\n",
    "        return -1\n",
    "    else:\n",
    "        adm_dict = adm_dict[0]\n",
    "        if 'name' in adm_dict.keys():\n",
    "            return adm_dict['name']\n",
    "        else:\n",
    "            return -1"
   ],
   "metadata": {
    "collapsed": false
   }
  },
  {
   "cell_type": "code",
   "execution_count": 11,
   "outputs": [],
   "source": [
    "gares['city'] = gares['administrative_regions'].apply(get_name)"
   ],
   "metadata": {
    "collapsed": false
   }
  },
  {
   "cell_type": "code",
   "execution_count": 12,
   "outputs": [],
   "source": [
    "gares.to_csv(\"./data/ensemble_gares.csv\")"
   ],
   "metadata": {
    "collapsed": false
   }
  },
  {
   "cell_type": "code",
   "execution_count": 1,
   "outputs": [],
   "source": [
    "import pickle"
   ],
   "metadata": {
    "collapsed": false
   }
  },
  {
   "cell_type": "code",
   "execution_count": 2,
   "outputs": [],
   "source": [
    "with (open('results_paris.pickle', \"rb\")) as openfile:\n",
    "    while True:\n",
    "        try:\n",
    "            objects = pickle.load(openfile)\n",
    "        except EOFError:\n",
    "            break"
   ],
   "metadata": {
    "collapsed": false
   }
  },
  {
   "cell_type": "code",
   "execution_count": 3,
   "outputs": [],
   "source": [
    "result = objects\n",
    "total_time = {}\n",
    "for city in result.keys():\n",
    "    total_time[city] = [min(result[city]['total_time']), min(result[city]['duration'])]"
   ],
   "metadata": {
    "collapsed": false
   }
  },
  {
   "cell_type": "code",
   "execution_count": null,
   "outputs": [],
   "source": [],
   "metadata": {
    "collapsed": false
   }
  }
 ],
 "metadata": {
  "kernelspec": {
   "display_name": "Python 3",
   "language": "python",
   "name": "python3"
  },
  "language_info": {
   "codemirror_mode": {
    "name": "ipython",
    "version": 2
   },
   "file_extension": ".py",
   "mimetype": "text/x-python",
   "name": "python",
   "nbconvert_exporter": "python",
   "pygments_lexer": "ipython2",
   "version": "2.7.6"
  }
 },
 "nbformat": 4,
 "nbformat_minor": 0
}
