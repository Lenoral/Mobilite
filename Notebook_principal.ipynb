{
 "cells": [
  {
   "attachments": {},
   "cell_type": "markdown",
   "metadata": {},
   "source": [
    "Importation des modules"
   ]
  },
  {
   "cell_type": "code",
   "execution_count": null,
   "metadata": {},
   "outputs": [],
   "source": [
    "import affichage_plotly_trajets as apt\n",
    "import pandas as pd\n",
    "import matplotlib.pyplot as plt\n",
    "import numpy as np\n",
    "import affichage_total as at\n"
   ]
  },
  {
   "attachments": {},
   "cell_type": "markdown",
   "metadata": {},
   "source": [
    "Choix des paramètres"
   ]
  },
  {
   "cell_type": "code",
   "execution_count": null,
   "metadata": {},
   "outputs": [],
   "source": [
    "nom_ville='Toulouse'  #Ville d'origine\n",
    "minutes_max = 10000 #Période d'étude en minutes"
   ]
  },
  {
   "attachments": {},
   "cell_type": "markdown",
   "metadata": {},
   "source": [
    "Calcul des OD par mode (peut prendre du temps à tourner, env 8min)"
   ]
  },
  {
   "attachments": {},
   "cell_type": "markdown",
   "metadata": {},
   "source": [
    "Le code ci dessous renvoie un dataframe avec les O/D en Train/Avion et Voiture, depuis la ville \"nom_ville\". Pour chaque O/D, le tableau contient les info l'origine (\"cityFrom\", \"lat_ori\", \"lon_ori\"), de la station d'origine (gare pour les train, aeroport pour les avion, avec le nom de la station), les infos de la ville d'arrivée (\"cityTo\", \"lat\", \"lon\"), de la station d'arrivée. Aussi, on calcule les Temps de transit aller (temps entre centre-ville d'origine et station d'origine) et retour (Telos entre station d'arrivée et centre-ville de la ville d'arrivée), la distance du trajet (\"Distance\", en km). On calcule aussi des coordonnés \"centrées\" de chaque ville d'arrivée (calculées en faisant, =cordonnées d'arrivée-coordonnées de départ, qui sont les variables \"lon_dest_centre\" et \"lat_dest_centre\"), et les coordonnées proportionnels au temps de trajets (pour tracer le graphique des cercles concentriques)."
   ]
  },
  {
   "cell_type": "code",
   "execution_count": null,
   "metadata": {},
   "outputs": [],
   "source": [
    "dest_reduit_total  = apt.affichage_plotlty(nom_ville=nom_ville, minutes_max=minutes_max)\n",
    "\n",
    "\n",
    "dest_reduit_total.drop_duplicates(subset=['mode','cityTo','cityFrom'], keep='last', inplace=True)\n",
    "dest_reduit_total.to_csv('Full_res/Resultats' + '_' + str(nom_ville) + '.csv')\n",
    "dest_reduit_total\n"
   ]
  },
  {
   "attachments": {},
   "cell_type": "markdown",
   "metadata": {},
   "source": [
    "Si résultats déjà générés"
   ]
  },
  {
   "cell_type": "code",
   "execution_count": null,
   "metadata": {},
   "outputs": [],
   "source": [
    "dest_reduit_total=pd.read_csv('Full_res/Resultats_'+str(nom_ville)+'.csv')\n"
   ]
  },
  {
   "attachments": {},
   "cell_type": "markdown",
   "metadata": {},
   "source": [
    "Réduction aux villes principales (+200k habitants)\n",
    "\n",
    "On sélectionne les lignes du dataframe uniquement pour des destinations >200k habitants"
   ]
  },
  {
   "cell_type": "code",
   "execution_count": null,
   "metadata": {},
   "outputs": [],
   "source": [
    "villes= ['Lille','Strasbourg','Paris','Brest','Bordeaux','Nantes', 'Nice','Lyon','Bayonne', 'Toulouse','Marseille','Rennes']\n",
    "dest_reduit_total_red = dest_reduit_total.loc[dest_reduit_total['cityTo'].isin(villes)]\n",
    "dest_reduit_total_red"
   ]
  },
  {
   "attachments": {},
   "cell_type": "markdown",
   "metadata": {},
   "source": [
    "Carte des destinations atteignables depuis la ville choisie (en bluen les trajets en train, en rouge les trajets en avion)"
   ]
  },
  {
   "cell_type": "code",
   "execution_count": null,
   "metadata": {},
   "outputs": [],
   "source": [
    "at.affichage_total_df(dest_reduit_total)"
   ]
  },
  {
   "attachments": {},
   "cell_type": "markdown",
   "metadata": {},
   "source": [
    "Carte villes principales françaises atteignables depuis la ville choisie (en bluen les trajets en train, en rouge les trajets en avion)"
   ]
  },
  {
   "cell_type": "code",
   "execution_count": null,
   "metadata": {},
   "outputs": [],
   "source": [
    "at.affichage_total_df(dest_reduit_total_red)"
   ]
  },
  {
   "cell_type": "code",
   "execution_count": null,
   "metadata": {},
   "outputs": [],
   "source": [
    "apt.affichage_classique(dest_reduit_total_red)"
   ]
  },
  {
   "attachments": {},
   "cell_type": "markdown",
   "metadata": {},
   "source": [
    "Affichage des temps de trajets pour les villes principales en comparant les modes"
   ]
  },
  {
   "cell_type": "code",
   "execution_count": 1,
   "metadata": {},
   "outputs": [
    {
     "ename": "NameError",
     "evalue": "name 'villes' is not defined",
     "output_type": "error",
     "traceback": [
      "\u001b[1;31m---------------------------------------------------------------------------\u001b[0m",
      "\u001b[1;31mNameError\u001b[0m                                 Traceback (most recent call last)",
      "\u001b[1;32m~\\AppData\\Local\\Temp/ipykernel_20048/3995667294.py\u001b[0m in \u001b[0;36m<module>\u001b[1;34m\u001b[0m\n\u001b[0;32m      5\u001b[0m \u001b[0mliste_tps_transit_avion\u001b[0m\u001b[1;33m=\u001b[0m\u001b[1;33m[\u001b[0m\u001b[1;33m]\u001b[0m\u001b[1;33m\u001b[0m\u001b[1;33m\u001b[0m\u001b[0m\n\u001b[0;32m      6\u001b[0m \u001b[0mliste_tps_transit_voit\u001b[0m\u001b[1;33m=\u001b[0m\u001b[1;33m[\u001b[0m\u001b[1;33m]\u001b[0m\u001b[1;33m\u001b[0m\u001b[1;33m\u001b[0m\u001b[0m\n\u001b[1;32m----> 7\u001b[1;33m \u001b[0mville\u001b[0m\u001b[1;33m=\u001b[0m\u001b[0mvilles\u001b[0m\u001b[1;33m\u001b[0m\u001b[1;33m\u001b[0m\u001b[0m\n\u001b[0m\u001b[0;32m      8\u001b[0m \u001b[1;32mfor\u001b[0m \u001b[0mville_dest\u001b[0m \u001b[1;32min\u001b[0m \u001b[0mvilles\u001b[0m\u001b[1;33m:\u001b[0m\u001b[1;33m\u001b[0m\u001b[1;33m\u001b[0m\u001b[0m\n\u001b[0;32m      9\u001b[0m     \u001b[1;31m#test avion\u001b[0m\u001b[1;33m\u001b[0m\u001b[1;33m\u001b[0m\u001b[0m\n",
      "\u001b[1;31mNameError\u001b[0m: name 'villes' is not defined"
     ]
    }
   ],
   "source": [
    "liste_tps_train=[]\n",
    "liste_tps_avion=[]\n",
    "liste_tps_voit=[]\n",
    "liste_tps_transit_train=[]\n",
    "liste_tps_transit_avion=[]\n",
    "liste_tps_transit_voit=[]\n",
    "ville=villes\n",
    "for ville_dest in villes:\n",
    "    #test avion\n",
    "    info_avion= dest_reduit_total_red[(dest_reduit_total_red['cityTo']==ville_dest) & (dest_reduit_total_red['mode']=='Avion')]\n",
    "    if not info_avion.empty:\n",
    "        tps_trajet_avion = info_avion['Tps_trajet_sec'].iloc[0]\n",
    "        tps_transit_avion = info_avion['Tps_total_transit'].iloc[0]\n",
    "        if tps_trajet_avion >0:\n",
    "            liste_tps_avion.append(tps_trajet_avion)\n",
    "        else:\n",
    "            liste_tps_avion.append(0)\n",
    "        if tps_transit_avion >0:\n",
    "            liste_tps_transit_avion.append(tps_transit_avion)\n",
    "        else: \n",
    "            liste_tps_transit_avion.append(0)\n",
    "    else:\n",
    "        liste_tps_avion.append(0)\n",
    "        liste_tps_transit_avion.append(0)\n",
    "    #test train\n",
    "    info_train= dest_reduit_total_red[(dest_reduit_total_red['cityTo']==ville_dest) & (dest_reduit_total_red['mode']=='Train')]\n",
    "    if not info_train.empty:\n",
    "        tps_trajet_train = info_train['Tps_trajet_sec'].iloc[0]\n",
    "        tps_transit_train = info_train['Tps_total_transit'].iloc[0]\n",
    "        if tps_trajet_train >0:\n",
    "            liste_tps_train.append(tps_trajet_train)\n",
    "        else:\n",
    "            liste_tps_train.append(0)\n",
    "        if tps_transit_train >0:\n",
    "            liste_tps_transit_train.append(tps_transit_train)\n",
    "        else: \n",
    "            liste_tps_transit_train.append(0)\n",
    "    else:\n",
    "        liste_tps_train.append(0)\n",
    "        liste_tps_transit_train.append(0)\n",
    "    #test voiture\n",
    "    info_voit= dest_reduit_total_red[(dest_reduit_total_red['cityTo']==ville_dest) & (dest_reduit_total_red['mode']=='Voiture')]\n",
    "    if not info_voit.empty:\n",
    "        tps_trajet_voit = info_voit['Tps_trajet_sec'].iloc[0]\n",
    "        tps_transit_voit = info_voit['Tps_total_transit'].iloc[0]\n",
    "        if tps_trajet_voit >0:\n",
    "            liste_tps_voit.append(tps_trajet_voit)\n",
    "        else:\n",
    "            liste_tps_voit.append(0)\n",
    "        if tps_transit_voit >0:\n",
    "            liste_tps_transit_voit.append(tps_transit_voit)\n",
    "        else: \n",
    "            liste_tps_transit_voit.append(0)\n",
    "    else:\n",
    "            liste_tps_voit.append(0)\n",
    "            liste_tps_transit_voit.append(0)\n",
    "\n",
    "x = np.arange(len(ville))\n",
    "tps_voiture = [34, 56, 12]\n",
    "tps_train = [12, 56, 78]\n",
    "tps_avion = [14, 23, 45]\n",
    "width = 0.3\n",
    "  \n",
    "\n",
    "plt.rcParams[\"figure.figsize\"] = (10,10)\n",
    "plt.grid()\n",
    "plt.barh(x-0.3, liste_tps_avion, width, color='indianred',left=liste_tps_transit_avion)\n",
    "plt.barh(x-0.3, liste_tps_transit_avion, width, color='firebrick')\n",
    "plt.barh(x, liste_tps_train, width, color='lightgreen',left=liste_tps_transit_train)\n",
    "plt.barh(x, liste_tps_transit_train, width, color='forestgreen')\n",
    "plt.barh(x+0.3, liste_tps_voit, width, color='skyblue',left=liste_tps_transit_voit)\n",
    "plt.barh(x+0.3, liste_tps_transit_voit, width, color='royalblue')\n",
    "plt.yticks(x, villes)\n",
    "plt.ylabel(\"Destinations depuis \" + str(nom_ville))\n",
    "plt.xlabel(\"Temps en secondes\")\n",
    "plt.legend([\"Avion\", \"Transit aéroport\" ,\"Train\",'Transit gare', \"Voiture\"])\n",
    "\n",
    "plt.show()"
   ]
  },
  {
   "cell_type": "code",
   "execution_count": null,
   "metadata": {},
   "outputs": [],
   "source": []
  }
 ],
 "metadata": {
  "kernelspec": {
   "display_name": "base",
   "language": "python",
   "name": "python3"
  },
  "language_info": {
   "codemirror_mode": {
    "name": "ipython",
    "version": 3
   },
   "file_extension": ".py",
   "mimetype": "text/x-python",
   "name": "python",
   "nbconvert_exporter": "python",
   "pygments_lexer": "ipython3",
   "version": "3.9.7"
  },
  "orig_nbformat": 4,
  "vscode": {
   "interpreter": {
    "hash": "6fc0abf1c8f97484722818a8d78c72e453033bfadc741d4a2b90bcbb5957298d"
   }
  }
 },
 "nbformat": 4,
 "nbformat_minor": 2
}
