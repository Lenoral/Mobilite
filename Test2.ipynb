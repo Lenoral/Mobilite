{
 "cells": [
  {
   "cell_type": "code",
   "execution_count": null,
   "metadata": {},
   "outputs": [],
   "source": [
    "import affichage_vol_dest as avd\n",
    "\n",
    "avd.recherche_airport('Berlin')"
   ]
  }
 ],
 "metadata": {
  "kernelspec": {
   "display_name": "Python 3.9.7 ('base')",
   "language": "python",
   "name": "python3"
  },
  "language_info": {
   "name": "python",
   "version": "3.9.7"
  },
  "orig_nbformat": 4,
  "vscode": {
   "interpreter": {
    "hash": "6fc0abf1c8f97484722818a8d78c72e453033bfadc741d4a2b90bcbb5957298d"
   }
  }
 },
 "nbformat": 4,
 "nbformat_minor": 2
}
